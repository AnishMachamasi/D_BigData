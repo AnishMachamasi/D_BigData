{
 "cells": [
  {
   "cell_type": "code",
   "execution_count": 3,
   "metadata": {},
   "outputs": [
    {
     "name": "stdout",
     "output_type": "stream",
     "text": [
      "Collecting psycopg2-binary\n",
      "  Downloading psycopg2_binary-2.9.9-cp311-cp311-manylinux_2_17_x86_64.manylinux2014_x86_64.whl.metadata (4.4 kB)\n",
      "Downloading psycopg2_binary-2.9.9-cp311-cp311-manylinux_2_17_x86_64.manylinux2014_x86_64.whl (3.0 MB)\n",
      "\u001b[2K   \u001b[90m━━━━━━━━━━━━━━━━━━━━━━━━━━━━━━━━━━━━━━━━\u001b[0m \u001b[32m3.0/3.0 MB\u001b[0m \u001b[31m4.3 MB/s\u001b[0m eta \u001b[36m0:00:00\u001b[0m00:01\u001b[0m00:01\u001b[0m0m\n",
      "\u001b[?25hInstalling collected packages: psycopg2-binary\n",
      "Successfully installed psycopg2-binary-2.9.9\n"
     ]
    }
   ],
   "source": [
    "!pip install psycopg2-binary\n"
   ]
  },
  {
   "cell_type": "code",
   "execution_count": 9,
   "metadata": {},
   "outputs": [],
   "source": [
    "import psycopg2\n",
    "\n",
    "# List of names\n",
    "# names = [\"name1\", \"name2\", \"name3\"]\n",
    "names = [\"bibek\", \"prajwal\", \"utsab\", \"abhash\", \"sadikshya\", \"manoj\"]\n",
    "\n",
    "# Connect to PostgreSQL\n",
    "conn = psycopg2.connect(\n",
    "      dbname=f\"postgres\",\n",
    "      user=\"postgres\",\n",
    "      password=\"postgres\",\n",
    "      host=\"dlytica-academy-server-l2a-master.eastus.cloudapp.azure.com\",\n",
    "      port=\"30100\"\n",
    "    )\n"
   ]
  },
  {
   "cell_type": "code",
   "execution_count": 10,
   "metadata": {},
   "outputs": [],
   "source": [
    "from psycopg2.extensions import ISOLATION_LEVEL_AUTOCOMMIT"
   ]
  },
  {
   "cell_type": "code",
   "execution_count": 11,
   "metadata": {},
   "outputs": [],
   "source": [
    "names = [\"bibek\", \"prajwal\", \"utsab\", \"abhash\", \"sadikshya\", \"manoj\"]\n",
    "# Iterate over the list of names\n",
    "for name in names:\n",
    "    conn = psycopg2.connect(\n",
    "      dbname=f\"postgres\",\n",
    "      user=\"postgres\",\n",
    "      password=\"postgres\",\n",
    "      host=\"dlytica-academy-server-l2a-master.eastus.cloudapp.azure.com\",\n",
    "      port=\"30100\"\n",
    "    )\n",
    "    # Set the isolation level to autocommit\n",
    "    conn.set_isolation_level(ISOLATION_LEVEL_AUTOCOMMIT)\n",
    "    # Create a cursor for the template1 connection\n",
    "    cur_template = conn.cursor()\n",
    "\n",
    "    # Execute the CREATE DATABASE statement on template1\n",
    "    cur_template.execute(f\"CREATE DATABASE {name}_db;\")\n",
    "\n",
    "    # Close the cursor and connection to template1\n",
    "    cur_template.close()\n",
    "    conn.close()\n",
    "\n",
    "    # Connect to the newly created database\n",
    "    conn_db = psycopg2.connect(\n",
    "        dbname=f\"{name}_db\",\n",
    "        user=\"postgres\",\n",
    "        password=\"postgres\",\n",
    "        host=\"dlytica-academy-server-l2a-master.eastus.cloudapp.azure.com\",\n",
    "        port=\"30100\"\n",
    "    )\n",
    "\n",
    "    # Create a cursor for the new database connection\n",
    "    cur_db = conn_db.cursor()\n",
    "\n",
    "    # Execute additional commands (e.g., CREATE USER, ALTER DATABASE) on the new database\n",
    "    cur_db.execute(f\"SELECT 1 FROM pg_roles WHERE rolname='{name}';\")\n",
    "    if not cur_db.fetchone():\n",
    "        # Create the user if it does not exist\n",
    "        cur_db.execute(f\"CREATE USER {name} WITH PASSWORD '{name}_123';\")\n",
    "        \n",
    "    cur_db.execute(f\"ALTER DATABASE {name}_db OWNER TO {name};\")\n",
    "\n",
    "    # Commit changes and close the cursor and connection to the new database\n",
    "    conn_db.commit()\n",
    "    cur_db.close()\n",
    "    conn_db.close()\n",
    "\n",
    "# Close the connection to the PostgreSQL server\n",
    "conn.close()\n"
   ]
  },
  {
   "cell_type": "code",
   "execution_count": 31,
   "metadata": {},
   "outputs": [],
   "source": [
    "# Set the isolation level to autocommit\n",
    "conn.set_isolation_level(ISOLATION_LEVEL_AUTOCOMMIT)\n",
    "\n",
    "# Create a cursor for the template1 connection\n",
    "cur_template = conn.cursor()\n",
    "\n",
    "for name in names:\n",
    "   \n",
    "    cur_template.execute(f\"\"\"\n",
    "    SELECT pg_terminate_backend(pg_stat_activity.pid)\n",
    "    FROM pg_stat_activity\n",
    "    WHERE pg_stat_activity.datname = '{name}_db'\n",
    "      AND pid <> pg_backend_pid();\n",
    "    \"\"\")\n",
    "    # Drop the database\n",
    "    cur_template.execute(f\"DROP DATABASE IF EXISTS {name}_db;\")\n",
    "    # cur_template.execute(f\"DROP DATABASE IF EXISTS {name}_db;\")\n",
    "    "
   ]
  },
  {
   "cell_type": "code",
   "execution_count": null,
   "metadata": {},
   "outputs": [],
   "source": []
  }
 ],
 "metadata": {
  "kernelspec": {
   "display_name": "Python 3 (ipykernel)",
   "language": "python",
   "name": "python3"
  },
  "language_info": {
   "codemirror_mode": {
    "name": "ipython",
    "version": 3
   },
   "file_extension": ".py",
   "mimetype": "text/x-python",
   "name": "python",
   "nbconvert_exporter": "python",
   "pygments_lexer": "ipython3",
   "version": "3.11.6"
  }
 },
 "nbformat": 4,
 "nbformat_minor": 4
}
