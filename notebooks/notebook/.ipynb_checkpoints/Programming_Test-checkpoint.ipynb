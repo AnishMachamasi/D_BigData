{
  "nbformat": 4,
  "nbformat_minor": 0,
  "metadata": {
    "colab": {
      "provenance": []
    },
    "kernelspec": {
      "name": "python3",
      "display_name": "Python 3"
    },
    "language_info": {
      "name": "python"
    }
  },
  "cells": [
    {
      "cell_type": "markdown",
      "source": [
        "## **Task 1:**  List Comprehension\n",
        "**`Q.1 Using list comprehension, modify the given list of strings such that the output list contains only strings with length of atleast 5 characters, all characters in uppercase.`**"
      ],
      "metadata": {
        "id": "-z6ncCWqZ8eK"
      }
    },
    {
      "cell_type": "code",
      "execution_count": null,
      "metadata": {
        "id": "qe3a6ftxZ6FP"
      },
      "outputs": [],
      "source": [
        "# Write your code here\n",
        "input_list = ['and', 'Nepal', 'have', 'character', 'random', 'etc']\n",
        "output_list ="
      ]
    },
    {
      "cell_type": "code",
      "source": [],
      "metadata": {
        "id": "llkFLz0bbZfF"
      },
      "execution_count": null,
      "outputs": []
    },
    {
      "cell_type": "markdown",
      "source": [
        "## Task 2. Binary Search Implementation\n",
        "`**Q2. Write a program that implements binary search on a sorted array to find the index of a given target value.**`\n",
        "\n",
        "`Hints:`\n",
        "- Divide the search space into two halves by finding the middle index “mid”.\n",
        "- Compare the middle element of the search space with the key.\n",
        "- If the key is found at middle element, the process is terminated.\n",
        "- If the key is not found at middle element, choose which half will be used as the next search space.\n",
        "  - If the key is smaller than the middle element, then the left side is used for next search.\n",
        "  - If the key is larger than the middle element, then the right side is used for next search.\n",
        "- This process is continued until the key is found or the total search space is exhausted.\n",
        "\n"
      ],
      "metadata": {
        "id": "ZiIWyonle-KA"
      }
    },
    {
      "cell_type": "code",
      "source": [
        "def binarySearch(arr, low, high, x):\n",
        "  pass\n",
        "\n",
        "\n",
        "# Driver Code\n",
        "if __name__ == '__main__':\n",
        "    arr = [2, 3, 4, 10, 40]\n",
        "    x = 10\n",
        "\n",
        "    # Function call\n",
        "    result = binarySearch(arr, 0, len(arr)-1, x)\n",
        "    if result != -1:\n",
        "        print(\"Element is present at index\", result)\n",
        "    else:\n",
        "        print(\"Element is not present in array\")"
      ],
      "metadata": {
        "colab": {
          "base_uri": "https://localhost:8080/"
        },
        "id": "-BPKhEH9fEpK",
        "outputId": "e6a82665-d9a3-44ee-fa07-f0308fe173e5"
      },
      "execution_count": null,
      "outputs": [
        {
          "output_type": "stream",
          "name": "stdout",
          "text": [
            "Element is present at index None\n"
          ]
        }
      ]
    },
    {
      "cell_type": "code",
      "source": [],
      "metadata": {
        "id": "U2DdiryrgoPR"
      },
      "execution_count": null,
      "outputs": []
    },
    {
      "cell_type": "markdown",
      "source": [
        " ## Task 3: Neural Network Concepts\n",
        " Interpret the following Neural Network in code using the concept of vectorization (Don't use loop for Z Calculation) <br>\n",
        "\n",
        "\n",
        "<img src=\"http://drive.google.com/uc?export=view&id=1hKi27f2xuLCBnhCHfaM1DmnAEELC_qoY\">\n"
      ],
      "metadata": {
        "id": "_UFAut6Q_hfv"
      }
    },
    {
      "cell_type": "code",
      "source": [
        "## Write your program here\n"
      ],
      "metadata": {
        "id": "QJ6BXziS_iJ6"
      },
      "execution_count": null,
      "outputs": []
    },
    {
      "cell_type": "code",
      "source": [],
      "metadata": {
        "id": "pZc5LhReAUmN"
      },
      "execution_count": null,
      "outputs": []
    },
    {
      "cell_type": "markdown",
      "source": [
        "## Task 4: Pandas\n",
        "\n",
        "- Create a pandas dataframe with a column name “original_number” and then add the data elements(int) shown below.\n",
        "- Create new column named \"reversed_number\"; the data elements in the column \"reversed_number\" should be the reverse of the elements in column \"original number\".\n",
        "\n",
        " - Data = [7, 10, 59, 123,345,567, 59,10,891,347,777,121,10,456,59,7891,59]"
      ],
      "metadata": {
        "id": "qN7WAdguAVKD"
      }
    },
    {
      "cell_type": "code",
      "source": [
        "## Write your program here\n"
      ],
      "metadata": {
        "id": "uXASe53qAYLo"
      },
      "execution_count": null,
      "outputs": []
    }
  ]
}