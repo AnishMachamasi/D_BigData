{
 "cells": [
  {
   "cell_type": "markdown",
   "id": "0db8291a-4e31-4aee-b198-c62a6dc5c003",
   "metadata": {},
   "source": [
    "Documentation Available at https://spark.apache.org/docs/latest/api/python/reference/index.html"
   ]
  },
  {
   "cell_type": "markdown",
   "id": "2baf632b-de03-4df5-8901-7effbe988d95",
   "metadata": {},
   "source": [
    "### Entry point of Spark - SparkSession"
   ]
  },
  {
   "cell_type": "code",
   "execution_count": 1,
   "id": "81572608-8274-425d-a52d-1158637a9b35",
   "metadata": {
    "collapsed": true,
    "jupyter": {
     "outputs_hidden": true
    }
   },
   "outputs": [],
   "source": [
    "from pyspark.sql import SparkSession"
   ]
  },
  {
   "cell_type": "markdown",
   "id": "f2642d09-3ec2-4251-acd3-995504afe716",
   "metadata": {},
   "source": [
    "### Show Spark version"
   ]
  },
  {
   "cell_type": "code",
   "execution_count": 3,
   "id": "55ef8eb3-650a-4d4a-a5ed-84931c630e8a",
   "metadata": {
    "collapsed": true,
    "jupyter": {
     "outputs_hidden": true
    }
   },
   "outputs": [
    {
     "name": "stdout",
     "output_type": "stream",
     "text": [
      "3.5.0\n"
     ]
    }
   ],
   "source": [
    "print(spark.version)"
   ]
  },
  {
   "cell_type": "markdown",
   "id": "cc7387d3-955c-4bf3-8cc4-b0b0b66d2f82",
   "metadata": {},
   "source": [
    "### Initialize SparkSession"
   ]
  },
  {
   "cell_type": "code",
   "execution_count": 2,
   "id": "4f440c03-3a2d-4afb-95e0-3a4a9965b33a",
   "metadata": {
    "collapsed": true,
    "jupyter": {
     "outputs_hidden": true
    }
   },
   "outputs": [],
   "source": [
    "# Initialize SparkSession\n",
    "spark = SparkSession.builder \\\n",
    "    .appName(\"MySparkApp\") \\\n",
    "    .getOrCreate()"
   ]
  },
  {
   "cell_type": "markdown",
   "id": "f500603a-8d33-4cc4-80ed-cf8924a4067e",
   "metadata": {},
   "source": [
    "### Reading CSV file using inbuilt inferSchema function - Approach 1"
   ]
  },
  {
   "cell_type": "code",
   "execution_count": 41,
   "id": "b73fd5e2-5618-4160-8805-e82ebc83db42",
   "metadata": {
    "collapsed": true,
    "jupyter": {
     "outputs_hidden": true
    }
   },
   "outputs": [],
   "source": [
    "circuits_df = spark.read.csv(\"./data/circuits.csv\", header = True, inferSchema = True)"
   ]
  },
  {
   "cell_type": "code",
   "execution_count": 42,
   "id": "ebf18012-3773-4ead-9ede-eefef6dbdd5d",
   "metadata": {
    "collapsed": true,
    "jupyter": {
     "outputs_hidden": true
    }
   },
   "outputs": [
    {
     "name": "stdout",
     "output_type": "stream",
     "text": [
      "+---------+--------------+--------------------+------------+---------+--------+---------+---+--------------------+\n",
      "|circuitId|    circuitRef|                name|    location|  country|     lat|      lng|alt|                 url|\n",
      "+---------+--------------+--------------------+------------+---------+--------+---------+---+--------------------+\n",
      "|        1|   albert_park|Albert Park Grand...|   Melbourne|Australia|-37.8497|  144.968| 10|http://en.wikiped...|\n",
      "|        2|        sepang|Sepang Internatio...|Kuala Lumpur| Malaysia| 2.76083|  101.738| 18|http://en.wikiped...|\n",
      "|        3|       bahrain|Bahrain Internati...|      Sakhir|  Bahrain| 26.0325|  50.5106|  7|http://en.wikiped...|\n",
      "|        4|     catalunya|Circuit de Barcel...|    Montmeló|    Spain|   41.57|  2.26111|109|http://en.wikiped...|\n",
      "|        5|      istanbul|       Istanbul Park|    Istanbul|   Turkey| 40.9517|   29.405|130|http://en.wikiped...|\n",
      "|        6|        monaco|   Circuit de Monaco| Monte-Carlo|   Monaco| 43.7347|  7.42056|  7|http://en.wikiped...|\n",
      "|        7|    villeneuve|Circuit Gilles Vi...|    Montreal|   Canada|    45.5| -73.5228| 13|http://en.wikiped...|\n",
      "|        8|   magny_cours|Circuit de Nevers...| Magny Cours|   France| 46.8642|  3.16361|228|http://en.wikiped...|\n",
      "|        9|   silverstone| Silverstone Circuit| Silverstone|       UK| 52.0786| -1.01694|153|http://en.wikiped...|\n",
      "|       10|hockenheimring|      Hockenheimring|  Hockenheim|  Germany| 49.3278|  8.56583|103|http://en.wikiped...|\n",
      "|       11|   hungaroring|         Hungaroring|    Budapest|  Hungary| 47.5789|  19.2486|264|http://en.wikiped...|\n",
      "|       12|      valencia|Valencia Street C...|    Valencia|    Spain| 39.4589|-0.331667|  4|http://en.wikiped...|\n",
      "|       13|           spa|Circuit de Spa-Fr...|         Spa|  Belgium| 50.4372|  5.97139|401|http://en.wikiped...|\n",
      "|       14|         monza|Autodromo Naziona...|       Monza|    Italy| 45.6156|  9.28111|162|http://en.wikiped...|\n",
      "|       15|    marina_bay|Marina Bay Street...|  Marina Bay|Singapore|  1.2914|  103.864| 18|http://en.wikiped...|\n",
      "|       16|          fuji|       Fuji Speedway|       Oyama|    Japan| 35.3717|  138.927|583|http://en.wikiped...|\n",
      "|       17|      shanghai|Shanghai Internat...|    Shanghai|    China| 31.3389|   121.22|  5|http://en.wikiped...|\n",
      "|       18|    interlagos|Autódromo José Ca...|   São Paulo|   Brazil|-23.7036| -46.6997|785|http://en.wikiped...|\n",
      "|       19|  indianapolis|Indianapolis Moto...|Indianapolis|      USA|  39.795| -86.2347|223|http://en.wikiped...|\n",
      "|       20|   nurburgring|         Nürburgring|     Nürburg|  Germany| 50.3356|   6.9475|578|http://en.wikiped...|\n",
      "+---------+--------------+--------------------+------------+---------+--------+---------+---+--------------------+\n",
      "only showing top 20 rows\n",
      "\n"
     ]
    }
   ],
   "source": [
    "circuits_df.show()"
   ]
  },
  {
   "cell_type": "code",
   "execution_count": 43,
   "id": "062c5050-f10f-4dde-a97a-95fb3c21a2a5",
   "metadata": {
    "collapsed": true,
    "jupyter": {
     "outputs_hidden": true
    }
   },
   "outputs": [
    {
     "data": {
      "text/plain": [
       "StructType([StructField('circuitId', IntegerType(), True), StructField('circuitRef', StringType(), True), StructField('name', StringType(), True), StructField('location', StringType(), True), StructField('country', StringType(), True), StructField('lat', DoubleType(), True), StructField('lng', DoubleType(), True), StructField('alt', IntegerType(), True), StructField('url', StringType(), True)])"
      ]
     },
     "execution_count": 43,
     "metadata": {},
     "output_type": "execute_result"
    }
   ],
   "source": [
    "circuits_df.schema"
   ]
  },
  {
   "cell_type": "markdown",
   "id": "97dc4ef3-904b-48e1-a58f-6797a9bff3e3",
   "metadata": {},
   "source": [
    "### Reading CSV file using inbuilt inferSchema function - Approach 2"
   ]
  },
  {
   "cell_type": "code",
   "execution_count": 44,
   "id": "b618e0f6-3773-46d5-80ac-75477f17bf3b",
   "metadata": {
    "collapsed": true,
    "jupyter": {
     "outputs_hidden": true
    }
   },
   "outputs": [],
   "source": [
    "circuits_df = spark.read.option(\"header\", \"true\") \\\n",
    "    .option(\"inferSchema\", \"true\") \\\n",
    "    .csv(\"data/circuits.csv\")"
   ]
  },
  {
   "cell_type": "code",
   "execution_count": 45,
   "id": "3f9f551c-5520-4559-8396-9dff9476a055",
   "metadata": {
    "collapsed": true,
    "jupyter": {
     "outputs_hidden": true
    }
   },
   "outputs": [
    {
     "name": "stdout",
     "output_type": "stream",
     "text": [
      "+---------+--------------+--------------------+------------+---------+--------+---------+---+--------------------+\n",
      "|circuitId|    circuitRef|                name|    location|  country|     lat|      lng|alt|                 url|\n",
      "+---------+--------------+--------------------+------------+---------+--------+---------+---+--------------------+\n",
      "|        1|   albert_park|Albert Park Grand...|   Melbourne|Australia|-37.8497|  144.968| 10|http://en.wikiped...|\n",
      "|        2|        sepang|Sepang Internatio...|Kuala Lumpur| Malaysia| 2.76083|  101.738| 18|http://en.wikiped...|\n",
      "|        3|       bahrain|Bahrain Internati...|      Sakhir|  Bahrain| 26.0325|  50.5106|  7|http://en.wikiped...|\n",
      "|        4|     catalunya|Circuit de Barcel...|    Montmeló|    Spain|   41.57|  2.26111|109|http://en.wikiped...|\n",
      "|        5|      istanbul|       Istanbul Park|    Istanbul|   Turkey| 40.9517|   29.405|130|http://en.wikiped...|\n",
      "|        6|        monaco|   Circuit de Monaco| Monte-Carlo|   Monaco| 43.7347|  7.42056|  7|http://en.wikiped...|\n",
      "|        7|    villeneuve|Circuit Gilles Vi...|    Montreal|   Canada|    45.5| -73.5228| 13|http://en.wikiped...|\n",
      "|        8|   magny_cours|Circuit de Nevers...| Magny Cours|   France| 46.8642|  3.16361|228|http://en.wikiped...|\n",
      "|        9|   silverstone| Silverstone Circuit| Silverstone|       UK| 52.0786| -1.01694|153|http://en.wikiped...|\n",
      "|       10|hockenheimring|      Hockenheimring|  Hockenheim|  Germany| 49.3278|  8.56583|103|http://en.wikiped...|\n",
      "|       11|   hungaroring|         Hungaroring|    Budapest|  Hungary| 47.5789|  19.2486|264|http://en.wikiped...|\n",
      "|       12|      valencia|Valencia Street C...|    Valencia|    Spain| 39.4589|-0.331667|  4|http://en.wikiped...|\n",
      "|       13|           spa|Circuit de Spa-Fr...|         Spa|  Belgium| 50.4372|  5.97139|401|http://en.wikiped...|\n",
      "|       14|         monza|Autodromo Naziona...|       Monza|    Italy| 45.6156|  9.28111|162|http://en.wikiped...|\n",
      "|       15|    marina_bay|Marina Bay Street...|  Marina Bay|Singapore|  1.2914|  103.864| 18|http://en.wikiped...|\n",
      "|       16|          fuji|       Fuji Speedway|       Oyama|    Japan| 35.3717|  138.927|583|http://en.wikiped...|\n",
      "|       17|      shanghai|Shanghai Internat...|    Shanghai|    China| 31.3389|   121.22|  5|http://en.wikiped...|\n",
      "|       18|    interlagos|Autódromo José Ca...|   São Paulo|   Brazil|-23.7036| -46.6997|785|http://en.wikiped...|\n",
      "|       19|  indianapolis|Indianapolis Moto...|Indianapolis|      USA|  39.795| -86.2347|223|http://en.wikiped...|\n",
      "|       20|   nurburgring|         Nürburgring|     Nürburg|  Germany| 50.3356|   6.9475|578|http://en.wikiped...|\n",
      "+---------+--------------+--------------------+------------+---------+--------+---------+---+--------------------+\n",
      "only showing top 20 rows\n",
      "\n"
     ]
    }
   ],
   "source": [
    "circuits_df.show()"
   ]
  },
  {
   "cell_type": "markdown",
   "id": "7efab636-bb5f-455b-b09e-c1d579ae44bf",
   "metadata": {},
   "source": [
    "### Reading CSV file using custom schema - Approach 2"
   ]
  },
  {
   "cell_type": "code",
   "execution_count": 26,
   "id": "3da39c77-bb7d-4e52-bed3-41dc224e7b7c",
   "metadata": {
    "collapsed": true,
    "jupyter": {
     "outputs_hidden": true
    }
   },
   "outputs": [],
   "source": [
    "from pyspark.sql.types import StructType, StructField, IntegerType, StringType, DoubleType"
   ]
  },
  {
   "cell_type": "code",
   "execution_count": 27,
   "id": "8f94807c-7d57-499d-80f6-cddc578b00c8",
   "metadata": {
    "collapsed": true,
    "jupyter": {
     "outputs_hidden": true
    }
   },
   "outputs": [],
   "source": [
    "circuits_schema = StructType(\n",
    "    fields=[StructField(\"circuitId\", IntegerType(), False),\n",
    "                                     StructField(\"circuitRef\", StringType(), True),\n",
    "                                     StructField(\"name\", StringType(), True),\n",
    "                                     StructField(\"location\", StringType(), True),\n",
    "                                     StructField(\"country\", StringType(), True),\n",
    "                                     StructField(\"lat\", DoubleType(), True),\n",
    "                                     StructField(\"lng\", DoubleType(), True),\n",
    "                                     StructField(\"alt\", IntegerType(), True),\n",
    "                                     StructField(\"url\", StringType(), True)\n",
    "        ]\n",
    "    )"
   ]
  },
  {
   "cell_type": "code",
   "execution_count": 29,
   "id": "8c0cd66e-658c-4d98-992f-5b94715cebb2",
   "metadata": {
    "collapsed": true,
    "jupyter": {
     "outputs_hidden": true
    }
   },
   "outputs": [],
   "source": [
    "circuits_df = spark.read \\\n",
    "                    .option(\"header\", True) \\\n",
    "                    .schema(circuits_schema) \\\n",
    "                    .csv(\"./data/circuits.csv\")"
   ]
  },
  {
   "cell_type": "code",
   "execution_count": 30,
   "id": "2aa3147e-3ba9-4c74-8ad2-a89756c09b81",
   "metadata": {
    "collapsed": true,
    "jupyter": {
     "outputs_hidden": true
    }
   },
   "outputs": [
    {
     "name": "stdout",
     "output_type": "stream",
     "text": [
      "+---------+--------------+--------------------+------------+---------+--------+---------+---+--------------------+\n",
      "|circuitId|    circuitRef|                name|    location|  country|     lat|      lng|alt|                 url|\n",
      "+---------+--------------+--------------------+------------+---------+--------+---------+---+--------------------+\n",
      "|        1|   albert_park|Albert Park Grand...|   Melbourne|Australia|-37.8497|  144.968| 10|http://en.wikiped...|\n",
      "|        2|        sepang|Sepang Internatio...|Kuala Lumpur| Malaysia| 2.76083|  101.738| 18|http://en.wikiped...|\n",
      "|        3|       bahrain|Bahrain Internati...|      Sakhir|  Bahrain| 26.0325|  50.5106|  7|http://en.wikiped...|\n",
      "|        4|     catalunya|Circuit de Barcel...|    Montmeló|    Spain|   41.57|  2.26111|109|http://en.wikiped...|\n",
      "|        5|      istanbul|       Istanbul Park|    Istanbul|   Turkey| 40.9517|   29.405|130|http://en.wikiped...|\n",
      "|        6|        monaco|   Circuit de Monaco| Monte-Carlo|   Monaco| 43.7347|  7.42056|  7|http://en.wikiped...|\n",
      "|        7|    villeneuve|Circuit Gilles Vi...|    Montreal|   Canada|    45.5| -73.5228| 13|http://en.wikiped...|\n",
      "|        8|   magny_cours|Circuit de Nevers...| Magny Cours|   France| 46.8642|  3.16361|228|http://en.wikiped...|\n",
      "|        9|   silverstone| Silverstone Circuit| Silverstone|       UK| 52.0786| -1.01694|153|http://en.wikiped...|\n",
      "|       10|hockenheimring|      Hockenheimring|  Hockenheim|  Germany| 49.3278|  8.56583|103|http://en.wikiped...|\n",
      "|       11|   hungaroring|         Hungaroring|    Budapest|  Hungary| 47.5789|  19.2486|264|http://en.wikiped...|\n",
      "|       12|      valencia|Valencia Street C...|    Valencia|    Spain| 39.4589|-0.331667|  4|http://en.wikiped...|\n",
      "|       13|           spa|Circuit de Spa-Fr...|         Spa|  Belgium| 50.4372|  5.97139|401|http://en.wikiped...|\n",
      "|       14|         monza|Autodromo Naziona...|       Monza|    Italy| 45.6156|  9.28111|162|http://en.wikiped...|\n",
      "|       15|    marina_bay|Marina Bay Street...|  Marina Bay|Singapore|  1.2914|  103.864| 18|http://en.wikiped...|\n",
      "|       16|          fuji|       Fuji Speedway|       Oyama|    Japan| 35.3717|  138.927|583|http://en.wikiped...|\n",
      "|       17|      shanghai|Shanghai Internat...|    Shanghai|    China| 31.3389|   121.22|  5|http://en.wikiped...|\n",
      "|       18|    interlagos|Autódromo José Ca...|   São Paulo|   Brazil|-23.7036| -46.6997|785|http://en.wikiped...|\n",
      "|       19|  indianapolis|Indianapolis Moto...|Indianapolis|      USA|  39.795| -86.2347|223|http://en.wikiped...|\n",
      "|       20|   nurburgring|         Nürburgring|     Nürburg|  Germany| 50.3356|   6.9475|578|http://en.wikiped...|\n",
      "+---------+--------------+--------------------+------------+---------+--------+---------+---+--------------------+\n",
      "only showing top 20 rows\n",
      "\n"
     ]
    }
   ],
   "source": [
    "circuits_df.show()"
   ]
  },
  {
   "cell_type": "markdown",
   "id": "10f6b633-6b52-448a-b241-4291d5d144c6",
   "metadata": {},
   "source": [
    "### Reading different type of data - JSON"
   ]
  },
  {
   "cell_type": "code",
   "execution_count": 32,
   "id": "9308a4d1-acb7-435b-a37e-3dc7d32a34ee",
   "metadata": {
    "collapsed": true,
    "jupyter": {
     "outputs_hidden": true
    }
   },
   "outputs": [],
   "source": [
    "from pyspark.sql.types import StructType, StructField, IntegerType, StringType, DateType"
   ]
  },
  {
   "cell_type": "code",
   "execution_count": 33,
   "id": "628541a2-fc7a-4542-a6f0-9111a28670c8",
   "metadata": {
    "collapsed": true,
    "jupyter": {
     "outputs_hidden": true
    }
   },
   "outputs": [],
   "source": [
    "races_schema = StructType(\n",
    "    fields=[StructField(\"raceId\", IntegerType(), False),\n",
    "                                  StructField(\"year\", IntegerType(), True),\n",
    "                                  StructField(\"round\", IntegerType(), True),\n",
    "                                  StructField(\"circuitId\", IntegerType(), True),\n",
    "                                  StructField(\"name\", StringType(), True),\n",
    "                                  StructField(\"date\", DateType(), True),\n",
    "                                  StructField(\"time\", StringType(), True),\n",
    "                                  StructField(\"url\", StringType(), True) \n",
    "])\n",
    "\n",
    "races_df = spark.read \\\n",
    "                .option(\"header\", True) \\\n",
    "                .schema(races_schema) \\\n",
    "                .csv(\"./data/races.csv\")"
   ]
  },
  {
   "cell_type": "code",
   "execution_count": 34,
   "id": "6181ce16-ff4c-48bc-ae7d-aa2289dfa82f",
   "metadata": {
    "collapsed": true,
    "jupyter": {
     "outputs_hidden": true
    }
   },
   "outputs": [
    {
     "name": "stdout",
     "output_type": "stream",
     "text": [
      "+------+----+-----+---------+--------------------+----------+--------+--------------------+\n",
      "|raceId|year|round|circuitId|                name|      date|    time|                 url|\n",
      "+------+----+-----+---------+--------------------+----------+--------+--------------------+\n",
      "|     1|2009|    1|        1|Australian Grand ...|2009-03-29|06:00:00|http://en.wikiped...|\n",
      "|     2|2009|    2|        2|Malaysian Grand Prix|2009-04-05|09:00:00|http://en.wikiped...|\n",
      "|     3|2009|    3|       17|  Chinese Grand Prix|2009-04-19|07:00:00|http://en.wikiped...|\n",
      "|     4|2009|    4|        3|  Bahrain Grand Prix|2009-04-26|12:00:00|http://en.wikiped...|\n",
      "|     5|2009|    5|        4|  Spanish Grand Prix|2009-05-10|12:00:00|http://en.wikiped...|\n",
      "|     6|2009|    6|        6|   Monaco Grand Prix|2009-05-24|12:00:00|http://en.wikiped...|\n",
      "|     7|2009|    7|        5|  Turkish Grand Prix|2009-06-07|12:00:00|http://en.wikiped...|\n",
      "|     8|2009|    8|        9|  British Grand Prix|2009-06-21|12:00:00|http://en.wikiped...|\n",
      "|     9|2009|    9|       20|   German Grand Prix|2009-07-12|12:00:00|http://en.wikiped...|\n",
      "|    10|2009|   10|       11|Hungarian Grand Prix|2009-07-26|12:00:00|http://en.wikiped...|\n",
      "|    11|2009|   11|       12| European Grand Prix|2009-08-23|12:00:00|http://en.wikiped...|\n",
      "|    12|2009|   12|       13|  Belgian Grand Prix|2009-08-30|12:00:00|http://en.wikiped...|\n",
      "|    13|2009|   13|       14|  Italian Grand Prix|2009-09-13|12:00:00|http://en.wikiped...|\n",
      "|    14|2009|   14|       15|Singapore Grand Prix|2009-09-27|12:00:00|http://en.wikiped...|\n",
      "|    15|2009|   15|       22| Japanese Grand Prix|2009-10-04|05:00:00|http://en.wikiped...|\n",
      "|    16|2009|   16|       18|Brazilian Grand Prix|2009-10-18|16:00:00|http://en.wikiped...|\n",
      "|    17|2009|   17|       24|Abu Dhabi Grand Prix|2009-11-01|11:00:00|http://en.wikiped...|\n",
      "|    18|2008|    1|        1|Australian Grand ...|2008-03-16|04:30:00|http://en.wikiped...|\n",
      "|    19|2008|    2|        2|Malaysian Grand Prix|2008-03-23|07:00:00|http://en.wikiped...|\n",
      "|    20|2008|    3|        3|  Bahrain Grand Prix|2008-04-06|11:30:00|http://en.wikiped...|\n",
      "+------+----+-----+---------+--------------------+----------+--------+--------------------+\n",
      "only showing top 20 rows\n",
      "\n"
     ]
    }
   ],
   "source": [
    "races_df.show()"
   ]
  },
  {
   "cell_type": "markdown",
   "id": "fb0d5a61-8ae5-49e3-a73a-548cf1fab459",
   "metadata": {},
   "source": [
    "#### Reading JSON"
   ]
  },
  {
   "cell_type": "code",
   "execution_count": 35,
   "id": "a4adb982-b09a-4af6-9020-cea08bb58c71",
   "metadata": {
    "collapsed": true,
    "jupyter": {
     "outputs_hidden": true
    }
   },
   "outputs": [],
   "source": [
    "constructors_schema = \"constructorId INT, constructorRef STRING, name STRING, nationality STRING, url STRING\"\n",
    "\n",
    "constructor_df = spark.read \\\n",
    "                    .schema(constructors_schema) \\\n",
    "                    .json(\"./data/constructors.json\")"
   ]
  },
  {
   "cell_type": "code",
   "execution_count": 36,
   "id": "bc755d82-4f9e-4292-9c85-dade70b61231",
   "metadata": {
    "collapsed": true,
    "jupyter": {
     "outputs_hidden": true
    }
   },
   "outputs": [
    {
     "name": "stdout",
     "output_type": "stream",
     "text": [
      "+-------------+--------------+-----------+-----------+--------------------+\n",
      "|constructorId|constructorRef|       name|nationality|                 url|\n",
      "+-------------+--------------+-----------+-----------+--------------------+\n",
      "|            1|       mclaren|    McLaren|    British|http://en.wikiped...|\n",
      "|            2|    bmw_sauber| BMW Sauber|     German|http://en.wikiped...|\n",
      "|            3|      williams|   Williams|    British|http://en.wikiped...|\n",
      "|            4|       renault|    Renault|     French|http://en.wikiped...|\n",
      "|            5|    toro_rosso| Toro Rosso|    Italian|http://en.wikiped...|\n",
      "|            6|       ferrari|    Ferrari|    Italian|http://en.wikiped...|\n",
      "|            7|        toyota|     Toyota|   Japanese|http://en.wikiped...|\n",
      "|            8|   super_aguri|Super Aguri|   Japanese|http://en.wikiped...|\n",
      "|            9|      red_bull|   Red Bull|   Austrian|http://en.wikiped...|\n",
      "|           10|   force_india|Force India|     Indian|http://en.wikiped...|\n",
      "|           11|         honda|      Honda|   Japanese|http://en.wikiped...|\n",
      "|           12|        spyker|     Spyker|      Dutch|http://en.wikiped...|\n",
      "|           13|           mf1|        MF1|    Russian|http://en.wikiped...|\n",
      "|           14|    spyker_mf1| Spyker MF1|      Dutch|http://en.wikiped...|\n",
      "|           15|        sauber|     Sauber|      Swiss|http://en.wikiped...|\n",
      "|           16|           bar|        BAR|    British|http://en.wikiped...|\n",
      "|           17|        jordan|     Jordan|      Irish|http://en.wikiped...|\n",
      "|           18|       minardi|    Minardi|    Italian|http://en.wikiped...|\n",
      "|           19|        jaguar|     Jaguar|    British|http://en.wikiped...|\n",
      "|           20|         prost|      Prost|     French|http://en.wikiped...|\n",
      "+-------------+--------------+-----------+-----------+--------------------+\n",
      "only showing top 20 rows\n",
      "\n"
     ]
    }
   ],
   "source": [
    "constructor_df.show()"
   ]
  },
  {
   "cell_type": "code",
   "execution_count": 37,
   "id": "c404a8de-5ef2-44db-ad9a-b5ac79f4f5c4",
   "metadata": {
    "collapsed": true,
    "jupyter": {
     "outputs_hidden": true
    }
   },
   "outputs": [],
   "source": [
    "constructor_df = spark.read.json(\"./data/constructors.json\")"
   ]
  },
  {
   "cell_type": "code",
   "execution_count": 38,
   "id": "73ea37bd-3120-40ce-a6a1-209b6c5cb998",
   "metadata": {
    "collapsed": true,
    "jupyter": {
     "outputs_hidden": true
    }
   },
   "outputs": [
    {
     "name": "stdout",
     "output_type": "stream",
     "text": [
      "+-------------+--------------+-----------+-----------+--------------------+\n",
      "|constructorId|constructorRef|       name|nationality|                 url|\n",
      "+-------------+--------------+-----------+-----------+--------------------+\n",
      "|            1|       mclaren|    McLaren|    British|http://en.wikiped...|\n",
      "|            2|    bmw_sauber| BMW Sauber|     German|http://en.wikiped...|\n",
      "|            3|      williams|   Williams|    British|http://en.wikiped...|\n",
      "|            4|       renault|    Renault|     French|http://en.wikiped...|\n",
      "|            5|    toro_rosso| Toro Rosso|    Italian|http://en.wikiped...|\n",
      "|            6|       ferrari|    Ferrari|    Italian|http://en.wikiped...|\n",
      "|            7|        toyota|     Toyota|   Japanese|http://en.wikiped...|\n",
      "|            8|   super_aguri|Super Aguri|   Japanese|http://en.wikiped...|\n",
      "|            9|      red_bull|   Red Bull|   Austrian|http://en.wikiped...|\n",
      "|           10|   force_india|Force India|     Indian|http://en.wikiped...|\n",
      "|           11|         honda|      Honda|   Japanese|http://en.wikiped...|\n",
      "|           12|        spyker|     Spyker|      Dutch|http://en.wikiped...|\n",
      "|           13|           mf1|        MF1|    Russian|http://en.wikiped...|\n",
      "|           14|    spyker_mf1| Spyker MF1|      Dutch|http://en.wikiped...|\n",
      "|           15|        sauber|     Sauber|      Swiss|http://en.wikiped...|\n",
      "|           16|           bar|        BAR|    British|http://en.wikiped...|\n",
      "|           17|        jordan|     Jordan|      Irish|http://en.wikiped...|\n",
      "|           18|       minardi|    Minardi|    Italian|http://en.wikiped...|\n",
      "|           19|        jaguar|     Jaguar|    British|http://en.wikiped...|\n",
      "|           20|         prost|      Prost|     French|http://en.wikiped...|\n",
      "+-------------+--------------+-----------+-----------+--------------------+\n",
      "only showing top 20 rows\n",
      "\n"
     ]
    }
   ],
   "source": [
    "constructor_df.show()"
   ]
  },
  {
   "cell_type": "code",
   "execution_count": 40,
   "id": "ad025eb4-85d5-4564-b63d-1e261d32a0f3",
   "metadata": {
    "collapsed": true,
    "jupyter": {
     "outputs_hidden": true
    }
   },
   "outputs": [
    {
     "data": {
      "text/plain": [
       "StructType([StructField('constructorId', LongType(), True), StructField('constructorRef', StringType(), True), StructField('name', StringType(), True), StructField('nationality', StringType(), True), StructField('url', StringType(), True)])"
      ]
     },
     "execution_count": 40,
     "metadata": {},
     "output_type": "execute_result"
    }
   ],
   "source": [
    "constructor_df.schema"
   ]
  },
  {
   "cell_type": "markdown",
   "id": "5a815c38-5134-4a6a-a0d4-9a42bd8239f9",
   "metadata": {},
   "source": [
    "## Selection of Column"
   ]
  },
  {
   "cell_type": "code",
   "execution_count": 49,
   "id": "b5142197-c46b-4d5d-9a69-17a92f5aab40",
   "metadata": {
    "collapsed": true,
    "jupyter": {
     "outputs_hidden": true
    }
   },
   "outputs": [
    {
     "name": "stdout",
     "output_type": "stream",
     "text": [
      "+---------+-----------+--------------------+------------+---------+--------+-------+---+--------------------+\n",
      "|circuitId| circuitRef|                name|    location|  country|     lat|    lng|alt|                 url|\n",
      "+---------+-----------+--------------------+------------+---------+--------+-------+---+--------------------+\n",
      "|        1|albert_park|Albert Park Grand...|   Melbourne|Australia|-37.8497|144.968| 10|http://en.wikiped...|\n",
      "|        2|     sepang|Sepang Internatio...|Kuala Lumpur| Malaysia| 2.76083|101.738| 18|http://en.wikiped...|\n",
      "|        3|    bahrain|Bahrain Internati...|      Sakhir|  Bahrain| 26.0325|50.5106|  7|http://en.wikiped...|\n",
      "|        4|  catalunya|Circuit de Barcel...|    Montmeló|    Spain|   41.57|2.26111|109|http://en.wikiped...|\n",
      "|        5|   istanbul|       Istanbul Park|    Istanbul|   Turkey| 40.9517| 29.405|130|http://en.wikiped...|\n",
      "+---------+-----------+--------------------+------------+---------+--------+-------+---+--------------------+\n",
      "only showing top 5 rows\n",
      "\n"
     ]
    }
   ],
   "source": [
    "circuits_df.show(n=5)"
   ]
  },
  {
   "cell_type": "code",
   "execution_count": 50,
   "id": "56a80f66-135b-44f0-86cf-b1ebf48b9bc5",
   "metadata": {
    "collapsed": true,
    "jupyter": {
     "outputs_hidden": true
    }
   },
   "outputs": [],
   "source": [
    "circuits_df_selected = df.select(\"circuitId\", \"circuitRef\")"
   ]
  },
  {
   "cell_type": "code",
   "execution_count": 51,
   "id": "a8396115-b5ec-40cb-a37c-60b50ab6e378",
   "metadata": {
    "collapsed": true,
    "jupyter": {
     "outputs_hidden": true
    }
   },
   "outputs": [
    {
     "name": "stdout",
     "output_type": "stream",
     "text": [
      "+---------+--------------+\n",
      "|circuitId|    circuitRef|\n",
      "+---------+--------------+\n",
      "|        1|   albert_park|\n",
      "|        2|        sepang|\n",
      "|        3|       bahrain|\n",
      "|        4|     catalunya|\n",
      "|        5|      istanbul|\n",
      "|        6|        monaco|\n",
      "|        7|    villeneuve|\n",
      "|        8|   magny_cours|\n",
      "|        9|   silverstone|\n",
      "|       10|hockenheimring|\n",
      "|       11|   hungaroring|\n",
      "|       12|      valencia|\n",
      "|       13|           spa|\n",
      "|       14|         monza|\n",
      "|       15|    marina_bay|\n",
      "|       16|          fuji|\n",
      "|       17|      shanghai|\n",
      "|       18|    interlagos|\n",
      "|       19|  indianapolis|\n",
      "|       20|   nurburgring|\n",
      "+---------+--------------+\n",
      "only showing top 20 rows\n",
      "\n"
     ]
    }
   ],
   "source": [
    "circuits_df_selected.show()"
   ]
  },
  {
   "cell_type": "markdown",
   "id": "4b3694fc-1996-4b40-b171-3c84e32fa70e",
   "metadata": {},
   "source": [
    "## Renaming the columns of the Dataframe"
   ]
  },
  {
   "cell_type": "code",
   "execution_count": 52,
   "id": "bf94fe13-ea9b-48e9-9dfb-78179271a885",
   "metadata": {
    "collapsed": true,
    "jupyter": {
     "outputs_hidden": true
    }
   },
   "outputs": [],
   "source": [
    "circuits_renamed_df = circuits_df.withColumnRenamed(\"circuitId\", \"circuit_id\") \\\n",
    ".withColumnRenamed(\"circuitRef\", \"circuit_ref\") \\\n",
    ".withColumnRenamed(\"lat\", \"latitude\") \\\n",
    ".withColumnRenamed(\"lng\", \"longitude\") \\\n",
    ".withColumnRenamed(\"alt\", \"altitude\") "
   ]
  },
  {
   "cell_type": "code",
   "execution_count": 53,
   "id": "cd9a507f-53ec-4ed9-a3f7-3ace560e3c6e",
   "metadata": {
    "collapsed": true,
    "jupyter": {
     "outputs_hidden": true
    }
   },
   "outputs": [
    {
     "name": "stdout",
     "output_type": "stream",
     "text": [
      "+----------+--------------+--------------------+------------+---------+--------+---------+--------+--------------------+\n",
      "|circuit_id|   circuit_ref|                name|    location|  country|latitude|longitude|altitude|                 url|\n",
      "+----------+--------------+--------------------+------------+---------+--------+---------+--------+--------------------+\n",
      "|         1|   albert_park|Albert Park Grand...|   Melbourne|Australia|-37.8497|  144.968|      10|http://en.wikiped...|\n",
      "|         2|        sepang|Sepang Internatio...|Kuala Lumpur| Malaysia| 2.76083|  101.738|      18|http://en.wikiped...|\n",
      "|         3|       bahrain|Bahrain Internati...|      Sakhir|  Bahrain| 26.0325|  50.5106|       7|http://en.wikiped...|\n",
      "|         4|     catalunya|Circuit de Barcel...|    Montmeló|    Spain|   41.57|  2.26111|     109|http://en.wikiped...|\n",
      "|         5|      istanbul|       Istanbul Park|    Istanbul|   Turkey| 40.9517|   29.405|     130|http://en.wikiped...|\n",
      "|         6|        monaco|   Circuit de Monaco| Monte-Carlo|   Monaco| 43.7347|  7.42056|       7|http://en.wikiped...|\n",
      "|         7|    villeneuve|Circuit Gilles Vi...|    Montreal|   Canada|    45.5| -73.5228|      13|http://en.wikiped...|\n",
      "|         8|   magny_cours|Circuit de Nevers...| Magny Cours|   France| 46.8642|  3.16361|     228|http://en.wikiped...|\n",
      "|         9|   silverstone| Silverstone Circuit| Silverstone|       UK| 52.0786| -1.01694|     153|http://en.wikiped...|\n",
      "|        10|hockenheimring|      Hockenheimring|  Hockenheim|  Germany| 49.3278|  8.56583|     103|http://en.wikiped...|\n",
      "|        11|   hungaroring|         Hungaroring|    Budapest|  Hungary| 47.5789|  19.2486|     264|http://en.wikiped...|\n",
      "|        12|      valencia|Valencia Street C...|    Valencia|    Spain| 39.4589|-0.331667|       4|http://en.wikiped...|\n",
      "|        13|           spa|Circuit de Spa-Fr...|         Spa|  Belgium| 50.4372|  5.97139|     401|http://en.wikiped...|\n",
      "|        14|         monza|Autodromo Naziona...|       Monza|    Italy| 45.6156|  9.28111|     162|http://en.wikiped...|\n",
      "|        15|    marina_bay|Marina Bay Street...|  Marina Bay|Singapore|  1.2914|  103.864|      18|http://en.wikiped...|\n",
      "|        16|          fuji|       Fuji Speedway|       Oyama|    Japan| 35.3717|  138.927|     583|http://en.wikiped...|\n",
      "|        17|      shanghai|Shanghai Internat...|    Shanghai|    China| 31.3389|   121.22|       5|http://en.wikiped...|\n",
      "|        18|    interlagos|Autódromo José Ca...|   São Paulo|   Brazil|-23.7036| -46.6997|     785|http://en.wikiped...|\n",
      "|        19|  indianapolis|Indianapolis Moto...|Indianapolis|      USA|  39.795| -86.2347|     223|http://en.wikiped...|\n",
      "|        20|   nurburgring|         Nürburgring|     Nürburg|  Germany| 50.3356|   6.9475|     578|http://en.wikiped...|\n",
      "+----------+--------------+--------------------+------------+---------+--------+---------+--------+--------------------+\n",
      "only showing top 20 rows\n",
      "\n"
     ]
    }
   ],
   "source": [
    "circuits_renamed_df.show()"
   ]
  },
  {
   "cell_type": "markdown",
   "id": "063c206a-c7e2-4927-9a55-cbfb31177e8f",
   "metadata": {},
   "source": [
    "### Adding new Column - withColumn"
   ]
  },
  {
   "cell_type": "code",
   "execution_count": 59,
   "id": "a4354831-5034-4202-872d-5d2859f0e697",
   "metadata": {
    "collapsed": true,
    "jupyter": {
     "outputs_hidden": true
    }
   },
   "outputs": [],
   "source": [
    "from pyspark.sql.functions import current_timestamp, col"
   ]
  },
  {
   "cell_type": "code",
   "execution_count": 60,
   "id": "689c8e41-4de1-4dcd-818b-e7ba1bd8b187",
   "metadata": {
    "collapsed": true,
    "jupyter": {
     "outputs_hidden": true
    }
   },
   "outputs": [],
   "source": [
    "circuits_time_df = circuits_renamed_df.withColumn(\"ingestion_date\", current_timestamp()) "
   ]
  },
  {
   "cell_type": "code",
   "execution_count": 61,
   "id": "620f3b6c-a312-4c62-adaf-8389b624ae3a",
   "metadata": {
    "collapsed": true,
    "jupyter": {
     "outputs_hidden": true
    }
   },
   "outputs": [
    {
     "name": "stdout",
     "output_type": "stream",
     "text": [
      "+----------+--------------+--------------------+------------+---------+--------+---------+--------+--------------------+--------------------+\n",
      "|circuit_id|   circuit_ref|                name|    location|  country|latitude|longitude|altitude|                 url|      ingestion_date|\n",
      "+----------+--------------+--------------------+------------+---------+--------+---------+--------+--------------------+--------------------+\n",
      "|         1|   albert_park|Albert Park Grand...|   Melbourne|Australia|-37.8497|  144.968|      10|http://en.wikiped...|2024-07-26 11:10:...|\n",
      "|         2|        sepang|Sepang Internatio...|Kuala Lumpur| Malaysia| 2.76083|  101.738|      18|http://en.wikiped...|2024-07-26 11:10:...|\n",
      "|         3|       bahrain|Bahrain Internati...|      Sakhir|  Bahrain| 26.0325|  50.5106|       7|http://en.wikiped...|2024-07-26 11:10:...|\n",
      "|         4|     catalunya|Circuit de Barcel...|    Montmeló|    Spain|   41.57|  2.26111|     109|http://en.wikiped...|2024-07-26 11:10:...|\n",
      "|         5|      istanbul|       Istanbul Park|    Istanbul|   Turkey| 40.9517|   29.405|     130|http://en.wikiped...|2024-07-26 11:10:...|\n",
      "|         6|        monaco|   Circuit de Monaco| Monte-Carlo|   Monaco| 43.7347|  7.42056|       7|http://en.wikiped...|2024-07-26 11:10:...|\n",
      "|         7|    villeneuve|Circuit Gilles Vi...|    Montreal|   Canada|    45.5| -73.5228|      13|http://en.wikiped...|2024-07-26 11:10:...|\n",
      "|         8|   magny_cours|Circuit de Nevers...| Magny Cours|   France| 46.8642|  3.16361|     228|http://en.wikiped...|2024-07-26 11:10:...|\n",
      "|         9|   silverstone| Silverstone Circuit| Silverstone|       UK| 52.0786| -1.01694|     153|http://en.wikiped...|2024-07-26 11:10:...|\n",
      "|        10|hockenheimring|      Hockenheimring|  Hockenheim|  Germany| 49.3278|  8.56583|     103|http://en.wikiped...|2024-07-26 11:10:...|\n",
      "|        11|   hungaroring|         Hungaroring|    Budapest|  Hungary| 47.5789|  19.2486|     264|http://en.wikiped...|2024-07-26 11:10:...|\n",
      "|        12|      valencia|Valencia Street C...|    Valencia|    Spain| 39.4589|-0.331667|       4|http://en.wikiped...|2024-07-26 11:10:...|\n",
      "|        13|           spa|Circuit de Spa-Fr...|         Spa|  Belgium| 50.4372|  5.97139|     401|http://en.wikiped...|2024-07-26 11:10:...|\n",
      "|        14|         monza|Autodromo Naziona...|       Monza|    Italy| 45.6156|  9.28111|     162|http://en.wikiped...|2024-07-26 11:10:...|\n",
      "|        15|    marina_bay|Marina Bay Street...|  Marina Bay|Singapore|  1.2914|  103.864|      18|http://en.wikiped...|2024-07-26 11:10:...|\n",
      "|        16|          fuji|       Fuji Speedway|       Oyama|    Japan| 35.3717|  138.927|     583|http://en.wikiped...|2024-07-26 11:10:...|\n",
      "|        17|      shanghai|Shanghai Internat...|    Shanghai|    China| 31.3389|   121.22|       5|http://en.wikiped...|2024-07-26 11:10:...|\n",
      "|        18|    interlagos|Autódromo José Ca...|   São Paulo|   Brazil|-23.7036| -46.6997|     785|http://en.wikiped...|2024-07-26 11:10:...|\n",
      "|        19|  indianapolis|Indianapolis Moto...|Indianapolis|      USA|  39.795| -86.2347|     223|http://en.wikiped...|2024-07-26 11:10:...|\n",
      "|        20|   nurburgring|         Nürburgring|     Nürburg|  Germany| 50.3356|   6.9475|     578|http://en.wikiped...|2024-07-26 11:10:...|\n",
      "+----------+--------------+--------------------+------------+---------+--------+---------+--------+--------------------+--------------------+\n",
      "only showing top 20 rows\n",
      "\n"
     ]
    }
   ],
   "source": [
    "circuits_time_df.show()"
   ]
  },
  {
   "cell_type": "code",
   "execution_count": 62,
   "id": "a302e90a-8cd9-44ad-994d-605f3aef7967",
   "metadata": {
    "collapsed": true,
    "jupyter": {
     "outputs_hidden": true
    }
   },
   "outputs": [],
   "source": [
    "df_with_new_col = circuits_time_df.withColumn(\"new_column\", col(\"altitude\") * 2)"
   ]
  },
  {
   "cell_type": "code",
   "execution_count": 63,
   "id": "1c18724a-682b-4daf-8897-17a8e745011b",
   "metadata": {
    "collapsed": true,
    "jupyter": {
     "outputs_hidden": true
    }
   },
   "outputs": [
    {
     "name": "stdout",
     "output_type": "stream",
     "text": [
      "+----------+--------------+--------------------+------------+---------+--------+---------+--------+--------------------+--------------------+----------+\n",
      "|circuit_id|   circuit_ref|                name|    location|  country|latitude|longitude|altitude|                 url|      ingestion_date|new_column|\n",
      "+----------+--------------+--------------------+------------+---------+--------+---------+--------+--------------------+--------------------+----------+\n",
      "|         1|   albert_park|Albert Park Grand...|   Melbourne|Australia|-37.8497|  144.968|      10|http://en.wikiped...|2024-07-26 11:10:...|        20|\n",
      "|         2|        sepang|Sepang Internatio...|Kuala Lumpur| Malaysia| 2.76083|  101.738|      18|http://en.wikiped...|2024-07-26 11:10:...|        36|\n",
      "|         3|       bahrain|Bahrain Internati...|      Sakhir|  Bahrain| 26.0325|  50.5106|       7|http://en.wikiped...|2024-07-26 11:10:...|        14|\n",
      "|         4|     catalunya|Circuit de Barcel...|    Montmeló|    Spain|   41.57|  2.26111|     109|http://en.wikiped...|2024-07-26 11:10:...|       218|\n",
      "|         5|      istanbul|       Istanbul Park|    Istanbul|   Turkey| 40.9517|   29.405|     130|http://en.wikiped...|2024-07-26 11:10:...|       260|\n",
      "|         6|        monaco|   Circuit de Monaco| Monte-Carlo|   Monaco| 43.7347|  7.42056|       7|http://en.wikiped...|2024-07-26 11:10:...|        14|\n",
      "|         7|    villeneuve|Circuit Gilles Vi...|    Montreal|   Canada|    45.5| -73.5228|      13|http://en.wikiped...|2024-07-26 11:10:...|        26|\n",
      "|         8|   magny_cours|Circuit de Nevers...| Magny Cours|   France| 46.8642|  3.16361|     228|http://en.wikiped...|2024-07-26 11:10:...|       456|\n",
      "|         9|   silverstone| Silverstone Circuit| Silverstone|       UK| 52.0786| -1.01694|     153|http://en.wikiped...|2024-07-26 11:10:...|       306|\n",
      "|        10|hockenheimring|      Hockenheimring|  Hockenheim|  Germany| 49.3278|  8.56583|     103|http://en.wikiped...|2024-07-26 11:10:...|       206|\n",
      "|        11|   hungaroring|         Hungaroring|    Budapest|  Hungary| 47.5789|  19.2486|     264|http://en.wikiped...|2024-07-26 11:10:...|       528|\n",
      "|        12|      valencia|Valencia Street C...|    Valencia|    Spain| 39.4589|-0.331667|       4|http://en.wikiped...|2024-07-26 11:10:...|         8|\n",
      "|        13|           spa|Circuit de Spa-Fr...|         Spa|  Belgium| 50.4372|  5.97139|     401|http://en.wikiped...|2024-07-26 11:10:...|       802|\n",
      "|        14|         monza|Autodromo Naziona...|       Monza|    Italy| 45.6156|  9.28111|     162|http://en.wikiped...|2024-07-26 11:10:...|       324|\n",
      "|        15|    marina_bay|Marina Bay Street...|  Marina Bay|Singapore|  1.2914|  103.864|      18|http://en.wikiped...|2024-07-26 11:10:...|        36|\n",
      "|        16|          fuji|       Fuji Speedway|       Oyama|    Japan| 35.3717|  138.927|     583|http://en.wikiped...|2024-07-26 11:10:...|      1166|\n",
      "|        17|      shanghai|Shanghai Internat...|    Shanghai|    China| 31.3389|   121.22|       5|http://en.wikiped...|2024-07-26 11:10:...|        10|\n",
      "|        18|    interlagos|Autódromo José Ca...|   São Paulo|   Brazil|-23.7036| -46.6997|     785|http://en.wikiped...|2024-07-26 11:10:...|      1570|\n",
      "|        19|  indianapolis|Indianapolis Moto...|Indianapolis|      USA|  39.795| -86.2347|     223|http://en.wikiped...|2024-07-26 11:10:...|       446|\n",
      "|        20|   nurburgring|         Nürburgring|     Nürburg|  Germany| 50.3356|   6.9475|     578|http://en.wikiped...|2024-07-26 11:10:...|      1156|\n",
      "+----------+--------------+--------------------+------------+---------+--------+---------+--------+--------------------+--------------------+----------+\n",
      "only showing top 20 rows\n",
      "\n"
     ]
    }
   ],
   "source": [
    "df_with_new_col.show()"
   ]
  },
  {
   "cell_type": "code",
   "execution_count": 68,
   "id": "bac177b8-8937-44e6-a2fd-27f9fd2bc376",
   "metadata": {
    "collapsed": true,
    "jupyter": {
     "outputs_hidden": true
    }
   },
   "outputs": [],
   "source": [
    "df_with_expr = df_with_new_col.select(\n",
    "    \"*\",\n",
    "    (col(\"latitude\") * 1.1).alias(\"latitude_adjusted\"),\n",
    "    (col(\"longitude\") + 10).alias(\"longitude_adjusted\")\n",
    ")"
   ]
  },
  {
   "cell_type": "code",
   "execution_count": 69,
   "id": "0874c571-57ca-4c77-be69-2f084350a293",
   "metadata": {
    "collapsed": true,
    "jupyter": {
     "outputs_hidden": true
    }
   },
   "outputs": [
    {
     "name": "stdout",
     "output_type": "stream",
     "text": [
      "+----------+--------------+--------------------+------------+---------+--------+---------+--------+--------------------+--------------------+-------------------+-------------------+\n",
      "|circuit_id|   circuit_ref|                name|    location|  country|latitude|longitude|altitude|                 url|      ingestion_date|  latitude_adjusted| longitude_adjusted|\n",
      "+----------+--------------+--------------------+------------+---------+--------+---------+--------+--------------------+--------------------+-------------------+-------------------+\n",
      "|         1|   albert_park|Albert Park Grand...|   Melbourne|Australia|-37.8497|  144.968|      10|http://en.wikiped...|2024-07-26 11:15:...|          -41.63467|            154.968|\n",
      "|         2|        sepang|Sepang Internatio...|Kuala Lumpur| Malaysia| 2.76083|  101.738|      18|http://en.wikiped...|2024-07-26 11:15:...|           3.036913|            111.738|\n",
      "|         3|       bahrain|Bahrain Internati...|      Sakhir|  Bahrain| 26.0325|  50.5106|       7|http://en.wikiped...|2024-07-26 11:15:...|           28.63575|            60.5106|\n",
      "|         4|     catalunya|Circuit de Barcel...|    Montmeló|    Spain|   41.57|  2.26111|     109|http://en.wikiped...|2024-07-26 11:15:...| 45.727000000000004|           12.26111|\n",
      "|         5|      istanbul|       Istanbul Park|    Istanbul|   Turkey| 40.9517|   29.405|     130|http://en.wikiped...|2024-07-26 11:15:...| 45.046870000000006|             39.405|\n",
      "|         6|        monaco|   Circuit de Monaco| Monte-Carlo|   Monaco| 43.7347|  7.42056|       7|http://en.wikiped...|2024-07-26 11:15:...|           48.10817| 17.420560000000002|\n",
      "|         7|    villeneuve|Circuit Gilles Vi...|    Montreal|   Canada|    45.5| -73.5228|      13|http://en.wikiped...|2024-07-26 11:15:...| 50.050000000000004|-63.522800000000004|\n",
      "|         8|   magny_cours|Circuit de Nevers...| Magny Cours|   France| 46.8642|  3.16361|     228|http://en.wikiped...|2024-07-26 11:15:...|           51.55062|           13.16361|\n",
      "|         9|   silverstone| Silverstone Circuit| Silverstone|       UK| 52.0786| -1.01694|     153|http://en.wikiped...|2024-07-26 11:15:...| 57.286460000000005|            8.98306|\n",
      "|        10|hockenheimring|      Hockenheimring|  Hockenheim|  Germany| 49.3278|  8.56583|     103|http://en.wikiped...|2024-07-26 11:15:...|  54.26058000000001|           18.56583|\n",
      "|        11|   hungaroring|         Hungaroring|    Budapest|  Hungary| 47.5789|  19.2486|     264|http://en.wikiped...|2024-07-26 11:15:...|           52.33679|            29.2486|\n",
      "|        12|      valencia|Valencia Street C...|    Valencia|    Spain| 39.4589|-0.331667|       4|http://en.wikiped...|2024-07-26 11:15:...| 43.404790000000006|           9.668333|\n",
      "|        13|           spa|Circuit de Spa-Fr...|         Spa|  Belgium| 50.4372|  5.97139|     401|http://en.wikiped...|2024-07-26 11:15:...| 55.480920000000005|           15.97139|\n",
      "|        14|         monza|Autodromo Naziona...|       Monza|    Italy| 45.6156|  9.28111|     162|http://en.wikiped...|2024-07-26 11:15:...|  50.17716000000001| 19.281109999999998|\n",
      "|        15|    marina_bay|Marina Bay Street...|  Marina Bay|Singapore|  1.2914|  103.864|      18|http://en.wikiped...|2024-07-26 11:15:...| 1.4205400000000001|            113.864|\n",
      "|        16|          fuji|       Fuji Speedway|       Oyama|    Japan| 35.3717|  138.927|     583|http://en.wikiped...|2024-07-26 11:15:...|           38.90887|            148.927|\n",
      "|        17|      shanghai|Shanghai Internat...|    Shanghai|    China| 31.3389|   121.22|       5|http://en.wikiped...|2024-07-26 11:15:...|           34.47279|             131.22|\n",
      "|        18|    interlagos|Autódromo José Ca...|   São Paulo|   Brazil|-23.7036| -46.6997|     785|http://en.wikiped...|2024-07-26 11:15:...|-26.073960000000003|           -36.6997|\n",
      "|        19|  indianapolis|Indianapolis Moto...|Indianapolis|      USA|  39.795| -86.2347|     223|http://en.wikiped...|2024-07-26 11:15:...|            43.7745|           -76.2347|\n",
      "|        20|   nurburgring|         Nürburgring|     Nürburg|  Germany| 50.3356|   6.9475|     578|http://en.wikiped...|2024-07-26 11:15:...|           55.36916| 16.947499999999998|\n",
      "+----------+--------------+--------------------+------------+---------+--------+---------+--------+--------------------+--------------------+-------------------+-------------------+\n",
      "only showing top 20 rows\n",
      "\n"
     ]
    }
   ],
   "source": [
    "df_with_expr.show()"
   ]
  },
  {
   "cell_type": "markdown",
   "id": "09e0bffb-cf12-4dd5-9398-15f5b2bf89c6",
   "metadata": {},
   "source": [
    "### Handling Null Data"
   ]
  },
  {
   "cell_type": "markdown",
   "id": "768269c2-a839-4039-aa64-0910a0ea14ee",
   "metadata": {},
   "source": [
    "#### Checking the Null data"
   ]
  },
  {
   "cell_type": "markdown",
   "id": "a999c4c9-67b0-4f1c-899a-a66a498ca7e4",
   "metadata": {},
   "source": [
    "##### Checking for Null Values in All Columns"
   ]
  },
  {
   "cell_type": "code",
   "execution_count": 73,
   "id": "eccf0984-520a-406e-b8a7-f830864bf275",
   "metadata": {
    "collapsed": true,
    "jupyter": {
     "outputs_hidden": true
    }
   },
   "outputs": [
    {
     "name": "stdout",
     "output_type": "stream",
     "text": [
      "+----------+-----------+----+--------+-------+--------+---------+--------+---+--------------+-----------------+------------------+\n",
      "|circuit_id|circuit_ref|name|location|country|latitude|longitude|altitude|url|ingestion_date|latitude_adjusted|longitude_adjusted|\n",
      "+----------+-----------+----+--------+-------+--------+---------+--------+---+--------------+-----------------+------------------+\n",
      "|         0|          0|   0|       0|      0|       0|        0|       0|  0|             0|                0|                 0|\n",
      "+----------+-----------+----+--------+-------+--------+---------+--------+---+--------------+-----------------+------------------+\n",
      "\n"
     ]
    }
   ],
   "source": [
    "from pyspark.sql.functions import col, sum\n",
    "\n",
    "# Count nulls in each column\n",
    "null_counts = df_with_expr.select([sum(col(c).isNull().cast(\"int\")).alias(c) for c in df_with_expr.columns])\n",
    "null_counts.show()"
   ]
  },
  {
   "cell_type": "markdown",
   "id": "0e0b270d-51e4-4290-882e-06f4c1687807",
   "metadata": {},
   "source": [
    "Checking for Null Values in Specific Columns"
   ]
  },
  {
   "cell_type": "code",
   "execution_count": 74,
   "id": "37482a69-dc39-4e47-aca6-0b7cbf98bf57",
   "metadata": {
    "collapsed": true,
    "jupyter": {
     "outputs_hidden": true
    }
   },
   "outputs": [
    {
     "name": "stdout",
     "output_type": "stream",
     "text": [
      "+----------+-----------+----+--------+-------+--------+---------+--------+---+--------------+-----------------+------------------+\n",
      "|circuit_id|circuit_ref|name|location|country|latitude|longitude|altitude|url|ingestion_date|latitude_adjusted|longitude_adjusted|\n",
      "+----------+-----------+----+--------+-------+--------+---------+--------+---+--------------+-----------------+------------------+\n",
      "+----------+-----------+----+--------+-------+--------+---------+--------+---+--------------+-----------------+------------------+\n",
      "\n"
     ]
    }
   ],
   "source": [
    "# Filter rows where specific columns are null\n",
    "df_nulls_in_columns = df_with_expr.filter(col(\"latitude\").isNull() | col(\"longitude\").isNull())\n",
    "df_nulls_in_columns.show()"
   ]
  },
  {
   "cell_type": "markdown",
   "id": "ff49d957-5bee-4126-ad6f-b0c6fec54bf8",
   "metadata": {},
   "source": [
    "### Filling the Null Values"
   ]
  },
  {
   "cell_type": "code",
   "execution_count": 75,
   "id": "090c68eb-13b1-44aa-8976-84170f25a9b4",
   "metadata": {
    "collapsed": true,
    "jupyter": {
     "outputs_hidden": true
    }
   },
   "outputs": [],
   "source": [
    "# Replace null values with a specific value in all columns\n",
    "df_filled = df_with_expr.fillna(\"unknown\")"
   ]
  },
  {
   "cell_type": "markdown",
   "id": "3b5ae185-e2aa-4aac-b3c0-70fb5bc65c77",
   "metadata": {},
   "source": [
    "#### Droping the Rows with the null values"
   ]
  },
  {
   "cell_type": "code",
   "execution_count": 76,
   "id": "6b81d28d-6eaf-4373-87be-99586eaaef24",
   "metadata": {
    "collapsed": true,
    "jupyter": {
     "outputs_hidden": true
    }
   },
   "outputs": [
    {
     "name": "stdout",
     "output_type": "stream",
     "text": [
      "+----------+--------------+--------------------+------------+---------+--------+---------+--------+--------------------+--------------------+-------------------+-------------------+\n",
      "|circuit_id|   circuit_ref|                name|    location|  country|latitude|longitude|altitude|                 url|      ingestion_date|  latitude_adjusted| longitude_adjusted|\n",
      "+----------+--------------+--------------------+------------+---------+--------+---------+--------+--------------------+--------------------+-------------------+-------------------+\n",
      "|         1|   albert_park|Albert Park Grand...|   Melbourne|Australia|-37.8497|  144.968|      10|http://en.wikiped...|2024-07-26 13:39:...|          -41.63467|            154.968|\n",
      "|         2|        sepang|Sepang Internatio...|Kuala Lumpur| Malaysia| 2.76083|  101.738|      18|http://en.wikiped...|2024-07-26 13:39:...|           3.036913|            111.738|\n",
      "|         3|       bahrain|Bahrain Internati...|      Sakhir|  Bahrain| 26.0325|  50.5106|       7|http://en.wikiped...|2024-07-26 13:39:...|           28.63575|            60.5106|\n",
      "|         4|     catalunya|Circuit de Barcel...|    Montmeló|    Spain|   41.57|  2.26111|     109|http://en.wikiped...|2024-07-26 13:39:...| 45.727000000000004|           12.26111|\n",
      "|         5|      istanbul|       Istanbul Park|    Istanbul|   Turkey| 40.9517|   29.405|     130|http://en.wikiped...|2024-07-26 13:39:...| 45.046870000000006|             39.405|\n",
      "|         6|        monaco|   Circuit de Monaco| Monte-Carlo|   Monaco| 43.7347|  7.42056|       7|http://en.wikiped...|2024-07-26 13:39:...|           48.10817| 17.420560000000002|\n",
      "|         7|    villeneuve|Circuit Gilles Vi...|    Montreal|   Canada|    45.5| -73.5228|      13|http://en.wikiped...|2024-07-26 13:39:...| 50.050000000000004|-63.522800000000004|\n",
      "|         8|   magny_cours|Circuit de Nevers...| Magny Cours|   France| 46.8642|  3.16361|     228|http://en.wikiped...|2024-07-26 13:39:...|           51.55062|           13.16361|\n",
      "|         9|   silverstone| Silverstone Circuit| Silverstone|       UK| 52.0786| -1.01694|     153|http://en.wikiped...|2024-07-26 13:39:...| 57.286460000000005|            8.98306|\n",
      "|        10|hockenheimring|      Hockenheimring|  Hockenheim|  Germany| 49.3278|  8.56583|     103|http://en.wikiped...|2024-07-26 13:39:...|  54.26058000000001|           18.56583|\n",
      "|        11|   hungaroring|         Hungaroring|    Budapest|  Hungary| 47.5789|  19.2486|     264|http://en.wikiped...|2024-07-26 13:39:...|           52.33679|            29.2486|\n",
      "|        12|      valencia|Valencia Street C...|    Valencia|    Spain| 39.4589|-0.331667|       4|http://en.wikiped...|2024-07-26 13:39:...| 43.404790000000006|           9.668333|\n",
      "|        13|           spa|Circuit de Spa-Fr...|         Spa|  Belgium| 50.4372|  5.97139|     401|http://en.wikiped...|2024-07-26 13:39:...| 55.480920000000005|           15.97139|\n",
      "|        14|         monza|Autodromo Naziona...|       Monza|    Italy| 45.6156|  9.28111|     162|http://en.wikiped...|2024-07-26 13:39:...|  50.17716000000001| 19.281109999999998|\n",
      "|        15|    marina_bay|Marina Bay Street...|  Marina Bay|Singapore|  1.2914|  103.864|      18|http://en.wikiped...|2024-07-26 13:39:...| 1.4205400000000001|            113.864|\n",
      "|        16|          fuji|       Fuji Speedway|       Oyama|    Japan| 35.3717|  138.927|     583|http://en.wikiped...|2024-07-26 13:39:...|           38.90887|            148.927|\n",
      "|        17|      shanghai|Shanghai Internat...|    Shanghai|    China| 31.3389|   121.22|       5|http://en.wikiped...|2024-07-26 13:39:...|           34.47279|             131.22|\n",
      "|        18|    interlagos|Autódromo José Ca...|   São Paulo|   Brazil|-23.7036| -46.6997|     785|http://en.wikiped...|2024-07-26 13:39:...|-26.073960000000003|           -36.6997|\n",
      "|        19|  indianapolis|Indianapolis Moto...|Indianapolis|      USA|  39.795| -86.2347|     223|http://en.wikiped...|2024-07-26 13:39:...|            43.7745|           -76.2347|\n",
      "|        20|   nurburgring|         Nürburgring|     Nürburg|  Germany| 50.3356|   6.9475|     578|http://en.wikiped...|2024-07-26 13:39:...|           55.36916| 16.947499999999998|\n",
      "+----------+--------------+--------------------+------------+---------+--------+---------+--------+--------------------+--------------------+-------------------+-------------------+\n",
      "only showing top 20 rows\n",
      "\n"
     ]
    }
   ],
   "source": [
    "# Drop rows where any column is null\n",
    "df_dropped_any = df_filled.dropna()\n",
    "\n",
    "# Drop rows where specific columns are null\n",
    "df_dropped_some = df_filled.dropna(subset=[\"name\", \"location\"])\n",
    "df_dropped_some.show()"
   ]
  },
  {
   "cell_type": "markdown",
   "id": "f45aabfd-698c-47fd-af21-84b143b5d372",
   "metadata": {},
   "source": [
    "#### Filtering Out Bad Data"
   ]
  },
  {
   "cell_type": "code",
   "execution_count": 77,
   "id": "4527fede-0a63-4a9d-abca-22911f8160cb",
   "metadata": {
    "collapsed": true,
    "jupyter": {
     "outputs_hidden": true
    }
   },
   "outputs": [
    {
     "name": "stdout",
     "output_type": "stream",
     "text": [
      "+----------+--------------+--------------------+------------+---------+--------+---------+--------+--------------------+--------------------+-------------------+-------------------+\n",
      "|circuit_id|   circuit_ref|                name|    location|  country|latitude|longitude|altitude|                 url|      ingestion_date|  latitude_adjusted| longitude_adjusted|\n",
      "+----------+--------------+--------------------+------------+---------+--------+---------+--------+--------------------+--------------------+-------------------+-------------------+\n",
      "|         1|   albert_park|Albert Park Grand...|   Melbourne|Australia|-37.8497|  144.968|      10|http://en.wikiped...|2024-07-26 13:40:...|          -41.63467|            154.968|\n",
      "|         2|        sepang|Sepang Internatio...|Kuala Lumpur| Malaysia| 2.76083|  101.738|      18|http://en.wikiped...|2024-07-26 13:40:...|           3.036913|            111.738|\n",
      "|         3|       bahrain|Bahrain Internati...|      Sakhir|  Bahrain| 26.0325|  50.5106|       7|http://en.wikiped...|2024-07-26 13:40:...|           28.63575|            60.5106|\n",
      "|         4|     catalunya|Circuit de Barcel...|    Montmeló|    Spain|   41.57|  2.26111|     109|http://en.wikiped...|2024-07-26 13:40:...| 45.727000000000004|           12.26111|\n",
      "|         5|      istanbul|       Istanbul Park|    Istanbul|   Turkey| 40.9517|   29.405|     130|http://en.wikiped...|2024-07-26 13:40:...| 45.046870000000006|             39.405|\n",
      "|         6|        monaco|   Circuit de Monaco| Monte-Carlo|   Monaco| 43.7347|  7.42056|       7|http://en.wikiped...|2024-07-26 13:40:...|           48.10817| 17.420560000000002|\n",
      "|         7|    villeneuve|Circuit Gilles Vi...|    Montreal|   Canada|    45.5| -73.5228|      13|http://en.wikiped...|2024-07-26 13:40:...| 50.050000000000004|-63.522800000000004|\n",
      "|         8|   magny_cours|Circuit de Nevers...| Magny Cours|   France| 46.8642|  3.16361|     228|http://en.wikiped...|2024-07-26 13:40:...|           51.55062|           13.16361|\n",
      "|         9|   silverstone| Silverstone Circuit| Silverstone|       UK| 52.0786| -1.01694|     153|http://en.wikiped...|2024-07-26 13:40:...| 57.286460000000005|            8.98306|\n",
      "|        10|hockenheimring|      Hockenheimring|  Hockenheim|  Germany| 49.3278|  8.56583|     103|http://en.wikiped...|2024-07-26 13:40:...|  54.26058000000001|           18.56583|\n",
      "|        11|   hungaroring|         Hungaroring|    Budapest|  Hungary| 47.5789|  19.2486|     264|http://en.wikiped...|2024-07-26 13:40:...|           52.33679|            29.2486|\n",
      "|        12|      valencia|Valencia Street C...|    Valencia|    Spain| 39.4589|-0.331667|       4|http://en.wikiped...|2024-07-26 13:40:...| 43.404790000000006|           9.668333|\n",
      "|        13|           spa|Circuit de Spa-Fr...|         Spa|  Belgium| 50.4372|  5.97139|     401|http://en.wikiped...|2024-07-26 13:40:...| 55.480920000000005|           15.97139|\n",
      "|        14|         monza|Autodromo Naziona...|       Monza|    Italy| 45.6156|  9.28111|     162|http://en.wikiped...|2024-07-26 13:40:...|  50.17716000000001| 19.281109999999998|\n",
      "|        15|    marina_bay|Marina Bay Street...|  Marina Bay|Singapore|  1.2914|  103.864|      18|http://en.wikiped...|2024-07-26 13:40:...| 1.4205400000000001|            113.864|\n",
      "|        16|          fuji|       Fuji Speedway|       Oyama|    Japan| 35.3717|  138.927|     583|http://en.wikiped...|2024-07-26 13:40:...|           38.90887|            148.927|\n",
      "|        17|      shanghai|Shanghai Internat...|    Shanghai|    China| 31.3389|   121.22|       5|http://en.wikiped...|2024-07-26 13:40:...|           34.47279|             131.22|\n",
      "|        18|    interlagos|Autódromo José Ca...|   São Paulo|   Brazil|-23.7036| -46.6997|     785|http://en.wikiped...|2024-07-26 13:40:...|-26.073960000000003|           -36.6997|\n",
      "|        19|  indianapolis|Indianapolis Moto...|Indianapolis|      USA|  39.795| -86.2347|     223|http://en.wikiped...|2024-07-26 13:40:...|            43.7745|           -76.2347|\n",
      "|        20|   nurburgring|         Nürburgring|     Nürburg|  Germany| 50.3356|   6.9475|     578|http://en.wikiped...|2024-07-26 13:40:...|           55.36916| 16.947499999999998|\n",
      "+----------+--------------+--------------------+------------+---------+--------+---------+--------+--------------------+--------------------+-------------------+-------------------+\n",
      "only showing top 20 rows\n",
      "\n"
     ]
    }
   ],
   "source": [
    "df_filtered = df_filled.filter(\n",
    "    (col(\"latitude\").isNotNull()) &\n",
    "    (col(\"longitude\").isNotNull()) &\n",
    "    (col(\"altitude\") >= 0)\n",
    ")\n",
    "df_filtered.show()"
   ]
  },
  {
   "cell_type": "markdown",
   "id": "74f3c0c9-a8c1-406d-a81a-4156ff56eb94",
   "metadata": {},
   "source": [
    "## filter()"
   ]
  },
  {
   "cell_type": "code",
   "execution_count": 79,
   "id": "0691cfc2-90d7-4147-9b54-cc2bbf41e14a",
   "metadata": {
    "collapsed": true,
    "jupyter": {
     "outputs_hidden": true
    }
   },
   "outputs": [
    {
     "name": "stdout",
     "output_type": "stream",
     "text": [
      "+---------+--------------+--------------------+------------+---------+--------+---------+---+--------------------+\n",
      "|circuitId|    circuitRef|                name|    location|  country|     lat|      lng|alt|                 url|\n",
      "+---------+--------------+--------------------+------------+---------+--------+---------+---+--------------------+\n",
      "|        1|   albert_park|Albert Park Grand...|   Melbourne|Australia|-37.8497|  144.968| 10|http://en.wikiped...|\n",
      "|        2|        sepang|Sepang Internatio...|Kuala Lumpur| Malaysia| 2.76083|  101.738| 18|http://en.wikiped...|\n",
      "|        3|       bahrain|Bahrain Internati...|      Sakhir|  Bahrain| 26.0325|  50.5106|  7|http://en.wikiped...|\n",
      "|        4|     catalunya|Circuit de Barcel...|    Montmeló|    Spain|   41.57|  2.26111|109|http://en.wikiped...|\n",
      "|        5|      istanbul|       Istanbul Park|    Istanbul|   Turkey| 40.9517|   29.405|130|http://en.wikiped...|\n",
      "|        6|        monaco|   Circuit de Monaco| Monte-Carlo|   Monaco| 43.7347|  7.42056|  7|http://en.wikiped...|\n",
      "|        7|    villeneuve|Circuit Gilles Vi...|    Montreal|   Canada|    45.5| -73.5228| 13|http://en.wikiped...|\n",
      "|        8|   magny_cours|Circuit de Nevers...| Magny Cours|   France| 46.8642|  3.16361|228|http://en.wikiped...|\n",
      "|        9|   silverstone| Silverstone Circuit| Silverstone|       UK| 52.0786| -1.01694|153|http://en.wikiped...|\n",
      "|       10|hockenheimring|      Hockenheimring|  Hockenheim|  Germany| 49.3278|  8.56583|103|http://en.wikiped...|\n",
      "|       11|   hungaroring|         Hungaroring|    Budapest|  Hungary| 47.5789|  19.2486|264|http://en.wikiped...|\n",
      "|       12|      valencia|Valencia Street C...|    Valencia|    Spain| 39.4589|-0.331667|  4|http://en.wikiped...|\n",
      "|       13|           spa|Circuit de Spa-Fr...|         Spa|  Belgium| 50.4372|  5.97139|401|http://en.wikiped...|\n",
      "|       14|         monza|Autodromo Naziona...|       Monza|    Italy| 45.6156|  9.28111|162|http://en.wikiped...|\n",
      "|       15|    marina_bay|Marina Bay Street...|  Marina Bay|Singapore|  1.2914|  103.864| 18|http://en.wikiped...|\n",
      "|       16|          fuji|       Fuji Speedway|       Oyama|    Japan| 35.3717|  138.927|583|http://en.wikiped...|\n",
      "|       17|      shanghai|Shanghai Internat...|    Shanghai|    China| 31.3389|   121.22|  5|http://en.wikiped...|\n",
      "|       18|    interlagos|Autódromo José Ca...|   São Paulo|   Brazil|-23.7036| -46.6997|785|http://en.wikiped...|\n",
      "|       19|  indianapolis|Indianapolis Moto...|Indianapolis|      USA|  39.795| -86.2347|223|http://en.wikiped...|\n",
      "|       20|   nurburgring|         Nürburgring|     Nürburg|  Germany| 50.3356|   6.9475|578|http://en.wikiped...|\n",
      "+---------+--------------+--------------------+------------+---------+--------+---------+---+--------------------+\n",
      "only showing top 20 rows\n",
      "\n"
     ]
    }
   ],
   "source": [
    "circuits_df.show()"
   ]
  },
  {
   "cell_type": "code",
   "execution_count": 80,
   "id": "153c0709-17c8-4f59-8711-f75565b6788b",
   "metadata": {
    "collapsed": true,
    "jupyter": {
     "outputs_hidden": true
    }
   },
   "outputs": [
    {
     "name": "stdout",
     "output_type": "stream",
     "text": [
      "+---------+-----------+--------------------+---------+---------+--------+-------+---+--------------------+\n",
      "|circuitId| circuitRef|                name| location|  country|     lat|    lng|alt|                 url|\n",
      "+---------+-----------+--------------------+---------+---------+--------+-------+---+--------------------+\n",
      "|        1|albert_park|Albert Park Grand...|Melbourne|Australia|-37.8497|144.968| 10|http://en.wikiped...|\n",
      "|       29|   adelaide|Adelaide Street C...| Adelaide|Australia|-34.9272|138.617| 58|http://en.wikiped...|\n",
      "+---------+-----------+--------------------+---------+---------+--------+-------+---+--------------------+\n",
      "\n"
     ]
    }
   ],
   "source": [
    "filtered_df = circuits_df.filter(\"country = 'Australia'\")\n",
    "filtered_df.show()"
   ]
  },
  {
   "cell_type": "code",
   "execution_count": 81,
   "id": "9de78296-d6f0-4ddf-bf18-e20c187cecda",
   "metadata": {
    "collapsed": true,
    "jupyter": {
     "outputs_hidden": true
    }
   },
   "outputs": [
    {
     "name": "stdout",
     "output_type": "stream",
     "text": [
      "+---------+--------------+--------------------+--------------------+--------+-------+---------+---+--------------------+\n",
      "|circuitId|    circuitRef|                name|            location| country|    lat|      lng|alt|                 url|\n",
      "+---------+--------------+--------------------+--------------------+--------+-------+---------+---+--------------------+\n",
      "|        4|     catalunya|Circuit de Barcel...|            Montmeló|   Spain|  41.57|  2.26111|109|http://en.wikiped...|\n",
      "|        5|      istanbul|       Istanbul Park|            Istanbul|  Turkey|40.9517|   29.405|130|http://en.wikiped...|\n",
      "|        6|        monaco|   Circuit de Monaco|         Monte-Carlo|  Monaco|43.7347|  7.42056|  7|http://en.wikiped...|\n",
      "|        7|    villeneuve|Circuit Gilles Vi...|            Montreal|  Canada|   45.5| -73.5228| 13|http://en.wikiped...|\n",
      "|        8|   magny_cours|Circuit de Nevers...|         Magny Cours|  France|46.8642|  3.16361|228|http://en.wikiped...|\n",
      "|        9|   silverstone| Silverstone Circuit|         Silverstone|      UK|52.0786| -1.01694|153|http://en.wikiped...|\n",
      "|       10|hockenheimring|      Hockenheimring|          Hockenheim| Germany|49.3278|  8.56583|103|http://en.wikiped...|\n",
      "|       11|   hungaroring|         Hungaroring|            Budapest| Hungary|47.5789|  19.2486|264|http://en.wikiped...|\n",
      "|       12|      valencia|Valencia Street C...|            Valencia|   Spain|39.4589|-0.331667|  4|http://en.wikiped...|\n",
      "|       13|           spa|Circuit de Spa-Fr...|                 Spa| Belgium|50.4372|  5.97139|401|http://en.wikiped...|\n",
      "|       14|         monza|Autodromo Naziona...|               Monza|   Italy|45.6156|  9.28111|162|http://en.wikiped...|\n",
      "|       16|          fuji|       Fuji Speedway|               Oyama|   Japan|35.3717|  138.927|583|http://en.wikiped...|\n",
      "|       17|      shanghai|Shanghai Internat...|            Shanghai|   China|31.3389|   121.22|  5|http://en.wikiped...|\n",
      "|       19|  indianapolis|Indianapolis Moto...|        Indianapolis|     USA| 39.795| -86.2347|223|http://en.wikiped...|\n",
      "|       20|   nurburgring|         Nürburgring|             Nürburg| Germany|50.3356|   6.9475|578|http://en.wikiped...|\n",
      "|       21|         imola|Autodromo Enzo e ...|               Imola|   Italy|44.3439|  11.7167| 37|http://en.wikiped...|\n",
      "|       22|        suzuka|      Suzuka Circuit|              Suzuka|   Japan|34.8431|  136.541| 45|http://en.wikiped...|\n",
      "|       23|osterreichring|             A1-Ring|           Spielburg| Austria|47.2197|  14.7647|678|http://en.wikiped...|\n",
      "|       26|         jerez|   Circuito de Jerez|Jerez de la Frontera|   Spain|36.7083| -6.03417| 37|http://en.wikiped...|\n",
      "|       27|       estoril|Autódromo do Estoril|             Estoril|Portugal|38.7506| -9.39417|130|http://en.wikiped...|\n",
      "+---------+--------------+--------------------+--------------------+--------+-------+---------+---+--------------------+\n",
      "only showing top 20 rows\n",
      "\n"
     ]
    }
   ],
   "source": [
    "filtered_df = circuits_df.where(\"lat > 30\")\n",
    "filtered_df.show()"
   ]
  },
  {
   "cell_type": "code",
   "execution_count": 82,
   "id": "6bb27350-8656-4c4b-aa84-e1994aebb16e",
   "metadata": {
    "collapsed": true,
    "jupyter": {
     "outputs_hidden": true
    }
   },
   "outputs": [
    {
     "name": "stdout",
     "output_type": "stream",
     "text": [
      "+---------+----------+--------------------+------------+--------+-------+-------+---+--------------------+\n",
      "|circuitId|circuitRef|                name|    location| country|    lat|    lng|alt|                 url|\n",
      "+---------+----------+--------------------+------------+--------+-------+-------+---+--------------------+\n",
      "|        2|    sepang|Sepang Internatio...|Kuala Lumpur|Malaysia|2.76083|101.738| 18|http://en.wikiped...|\n",
      "|        5|  istanbul|       Istanbul Park|    Istanbul|  Turkey|40.9517| 29.405|130|http://en.wikiped...|\n",
      "+---------+----------+--------------------+------------+--------+-------+-------+---+--------------------+\n",
      "\n"
     ]
    }
   ],
   "source": [
    "filtered_df = circuits_df.filter(col(\"country\").isin([\"Turkey\", \"Malaysia\"]))\n",
    "filtered_df.show()"
   ]
  },
  {
   "cell_type": "markdown",
   "id": "f3de3203-5ffc-4946-91f5-d38e1ec1f696",
   "metadata": {},
   "source": [
    "#### Multiple filter()"
   ]
  },
  {
   "cell_type": "code",
   "execution_count": 83,
   "id": "bb215761-f21c-40f1-a769-ab27954fe183",
   "metadata": {
    "collapsed": true,
    "jupyter": {
     "outputs_hidden": true
    }
   },
   "outputs": [
    {
     "name": "stdout",
     "output_type": "stream",
     "text": [
      "+---------+-----------+--------------------+---------+---------+--------+-------+---+--------------------+\n",
      "|circuitId| circuitRef|                name| location|  country|     lat|    lng|alt|                 url|\n",
      "+---------+-----------+--------------------+---------+---------+--------+-------+---+--------------------+\n",
      "|        1|albert_park|Albert Park Grand...|Melbourne|Australia|-37.8497|144.968| 10|http://en.wikiped...|\n",
      "|       29|   adelaide|Adelaide Street C...| Adelaide|Australia|-34.9272|138.617| 58|http://en.wikiped...|\n",
      "+---------+-----------+--------------------+---------+---------+--------+-------+---+--------------------+\n",
      "\n"
     ]
    }
   ],
   "source": [
    "filtered_df = circuits_df.filter(\n",
    "    (col(\"country\").isin([\"Australia\", \"Turkey\"])) & \n",
    "    (col(\"alt\").between(10, 100))\n",
    ")\n",
    "filtered_df.show()"
   ]
  },
  {
   "cell_type": "markdown",
   "id": "36432563-1303-45ec-93e9-8356add00bca",
   "metadata": {},
   "source": [
    "## Aggregating Data"
   ]
  },
  {
   "cell_type": "markdown",
   "id": "b1c4a0fc-e04f-49e0-b1e8-460694b63ea4",
   "metadata": {},
   "source": [
    "#### Count the Number of Circuits by Country"
   ]
  },
  {
   "cell_type": "code",
   "execution_count": 91,
   "id": "d3a463b0-54a4-4bc6-a981-f5149fe214dd",
   "metadata": {
    "collapsed": true,
    "jupyter": {
     "outputs_hidden": true
    }
   },
   "outputs": [
    {
     "name": "stdout",
     "output_type": "stream",
     "text": [
      "+------------+------------+\n",
      "|     country|num_circuits|\n",
      "+------------+------------+\n",
      "|      Russia|           1|\n",
      "|      Sweden|           1|\n",
      "|    Malaysia|           1|\n",
      "|   Singapore|           1|\n",
      "|      Turkey|           1|\n",
      "|     Germany|           3|\n",
      "|      France|           7|\n",
      "|   Argentina|           1|\n",
      "|     Belgium|           3|\n",
      "|       China|           1|\n",
      "|       India|           1|\n",
      "|       Italy|           4|\n",
      "|       Spain|           6|\n",
      "|      Monaco|           1|\n",
      "|     Morocco|           1|\n",
      "|         USA|          11|\n",
      "|      Mexico|           1|\n",
      "|  Azerbaijan|           1|\n",
      "|          UK|           4|\n",
      "|Saudi Arabia|           1|\n",
      "+------------+------------+\n",
      "only showing top 20 rows\n",
      "\n"
     ]
    }
   ],
   "source": [
    "from pyspark.sql.functions import count, avg, max, min\n",
    "\n",
    "count_by_country = circuits_df.groupBy(\"country\").agg(count(\"circuitId\").alias(\"num_circuits\"))\n",
    "count_by_country.show()"
   ]
  },
  {
   "cell_type": "markdown",
   "id": "3b50453d-a7be-4843-b78c-6419ef028429",
   "metadata": {},
   "source": [
    "#### Average Altitude of Circuits by Country"
   ]
  },
  {
   "cell_type": "code",
   "execution_count": 88,
   "id": "366e6780-d747-426b-82f7-f6cf062a9050",
   "metadata": {
    "collapsed": true,
    "jupyter": {
     "outputs_hidden": true
    }
   },
   "outputs": [
    {
     "name": "stdout",
     "output_type": "stream",
     "text": [
      "+------------+------------------+\n",
      "|     country|  average_altitude|\n",
      "+------------+------------------+\n",
      "|      Russia|               2.0|\n",
      "|      Sweden|             153.0|\n",
      "|    Malaysia|              18.0|\n",
      "|   Singapore|              18.0|\n",
      "|      Turkey|             130.0|\n",
      "|     Germany|244.66666666666666|\n",
      "|      France|             310.0|\n",
      "|   Argentina|               8.0|\n",
      "|     Belgium|             192.0|\n",
      "|       China|               5.0|\n",
      "|       India|             194.0|\n",
      "|       Italy|            145.75|\n",
      "|       Spain|153.83333333333334|\n",
      "|      Monaco|               7.0|\n",
      "|     Morocco|              19.0|\n",
      "|         USA|             243.0|\n",
      "|      Mexico|            2227.0|\n",
      "|  Azerbaijan|              -7.0|\n",
      "|          UK|             101.5|\n",
      "|Saudi Arabia|              15.0|\n",
      "+------------+------------------+\n",
      "only showing top 20 rows\n",
      "\n"
     ]
    }
   ],
   "source": [
    "average_altitude_by_country = circuits_df.groupBy(\"country\").agg(avg(\"alt\").alias(\"average_altitude\"))\n",
    "average_altitude_by_country.show()\n"
   ]
  },
  {
   "cell_type": "markdown",
   "id": "776302f8-54bc-4b35-b746-03344d0c68ca",
   "metadata": {},
   "source": [
    "#### Maximum and Minimum Latitude for Each Country"
   ]
  },
  {
   "cell_type": "code",
   "execution_count": 92,
   "id": "b0addf46-a9f3-45d7-9a4d-5cfaefb88991",
   "metadata": {
    "collapsed": true,
    "jupyter": {
     "outputs_hidden": true
    }
   },
   "outputs": [
    {
     "name": "stdout",
     "output_type": "stream",
     "text": [
      "+------------+------------+------------+\n",
      "|     country|max_latitude|min_latitude|\n",
      "+------------+------------+------------+\n",
      "|      Russia|     43.4057|     43.4057|\n",
      "|      Sweden|     57.2653|     57.2653|\n",
      "|    Malaysia|     2.76083|     2.76083|\n",
      "|   Singapore|      1.2914|      1.2914|\n",
      "|      Turkey|     40.9517|     40.9517|\n",
      "|     Germany|     52.4806|     49.3278|\n",
      "|      France|     49.3306|     43.2506|\n",
      "|   Argentina|    -34.6943|    -34.6943|\n",
      "|     Belgium|     50.9894|     50.4372|\n",
      "|       China|     31.3389|     31.3389|\n",
      "|       India|     28.3487|     28.3487|\n",
      "|       Italy|     45.6156|      42.475|\n",
      "|       Spain|       41.57|     36.7083|\n",
      "|      Monaco|     43.7347|     43.7347|\n",
      "|     Morocco|     33.5786|     33.5786|\n",
      "|         USA|     42.3369|     27.4547|\n",
      "|      Mexico|     19.4042|     19.4042|\n",
      "|  Azerbaijan|     40.3725|     40.3725|\n",
      "|          UK|     53.4769|     51.3569|\n",
      "|Saudi Arabia|     21.5433|     21.5433|\n",
      "+------------+------------+------------+\n",
      "only showing top 20 rows\n",
      "\n"
     ]
    }
   ],
   "source": [
    "max_min_lat_by_country = circuits_df.groupBy(\"country\").agg(\n",
    "    max(\"lat\").alias(\"max_latitude\"),\n",
    "    min(\"lat\").alias(\"min_latitude\")\n",
    ")\n",
    "max_min_lat_by_country.show()"
   ]
  },
  {
   "cell_type": "markdown",
   "id": "07dcaba5-587a-4484-b974-e9156b3ef138",
   "metadata": {},
   "source": [
    "#### Count of Circuits and Average Altitude"
   ]
  },
  {
   "cell_type": "code",
   "execution_count": 93,
   "id": "55129e73-3d59-4bc8-92e0-306048a30896",
   "metadata": {
    "collapsed": true,
    "jupyter": {
     "outputs_hidden": true
    }
   },
   "outputs": [
    {
     "name": "stdout",
     "output_type": "stream",
     "text": [
      "+------------+------------+------------------+\n",
      "|     country|num_circuits|  average_altitude|\n",
      "+------------+------------+------------------+\n",
      "|      Russia|           1|               2.0|\n",
      "|      Sweden|           1|             153.0|\n",
      "|    Malaysia|           1|              18.0|\n",
      "|   Singapore|           1|              18.0|\n",
      "|      Turkey|           1|             130.0|\n",
      "|     Germany|           3|244.66666666666666|\n",
      "|      France|           7|             310.0|\n",
      "|   Argentina|           1|               8.0|\n",
      "|     Belgium|           3|             192.0|\n",
      "|       China|           1|               5.0|\n",
      "|       India|           1|             194.0|\n",
      "|       Italy|           4|            145.75|\n",
      "|       Spain|           6|153.83333333333334|\n",
      "|      Monaco|           1|               7.0|\n",
      "|     Morocco|           1|              19.0|\n",
      "|         USA|          11|             243.0|\n",
      "|      Mexico|           1|            2227.0|\n",
      "|  Azerbaijan|           1|              -7.0|\n",
      "|          UK|           4|             101.5|\n",
      "|Saudi Arabia|           1|              15.0|\n",
      "+------------+------------+------------------+\n",
      "only showing top 20 rows\n",
      "\n"
     ]
    }
   ],
   "source": [
    "count_and_avg_altitude_by_country = circuits_df.groupBy(\"country\").agg(\n",
    "    count(\"circuitId\").alias(\"num_circuits\"),\n",
    "    avg(\"alt\").alias(\"average_altitude\")\n",
    ")\n",
    "count_and_avg_altitude_by_country.show()"
   ]
  },
  {
   "cell_type": "markdown",
   "id": "da6e9759-87ed-4223-a545-1415995bbc03",
   "metadata": {},
   "source": [
    "## Join in pyspark"
   ]
  },
  {
   "cell_type": "code",
   "execution_count": 94,
   "id": "e6ee5ba4-397e-4fb7-8f48-2536e770afe5",
   "metadata": {
    "collapsed": true,
    "jupyter": {
     "outputs_hidden": true
    }
   },
   "outputs": [
    {
     "name": "stdout",
     "output_type": "stream",
     "text": [
      "+---------+--------------+--------------------+------------+---------+--------+---------+---+--------------------+\n",
      "|circuitId|    circuitRef|                name|    location|  country|     lat|      lng|alt|                 url|\n",
      "+---------+--------------+--------------------+------------+---------+--------+---------+---+--------------------+\n",
      "|        1|   albert_park|Albert Park Grand...|   Melbourne|Australia|-37.8497|  144.968| 10|http://en.wikiped...|\n",
      "|        2|        sepang|Sepang Internatio...|Kuala Lumpur| Malaysia| 2.76083|  101.738| 18|http://en.wikiped...|\n",
      "|        3|       bahrain|Bahrain Internati...|      Sakhir|  Bahrain| 26.0325|  50.5106|  7|http://en.wikiped...|\n",
      "|        4|     catalunya|Circuit de Barcel...|    Montmeló|    Spain|   41.57|  2.26111|109|http://en.wikiped...|\n",
      "|        5|      istanbul|       Istanbul Park|    Istanbul|   Turkey| 40.9517|   29.405|130|http://en.wikiped...|\n",
      "|        6|        monaco|   Circuit de Monaco| Monte-Carlo|   Monaco| 43.7347|  7.42056|  7|http://en.wikiped...|\n",
      "|        7|    villeneuve|Circuit Gilles Vi...|    Montreal|   Canada|    45.5| -73.5228| 13|http://en.wikiped...|\n",
      "|        8|   magny_cours|Circuit de Nevers...| Magny Cours|   France| 46.8642|  3.16361|228|http://en.wikiped...|\n",
      "|        9|   silverstone| Silverstone Circuit| Silverstone|       UK| 52.0786| -1.01694|153|http://en.wikiped...|\n",
      "|       10|hockenheimring|      Hockenheimring|  Hockenheim|  Germany| 49.3278|  8.56583|103|http://en.wikiped...|\n",
      "|       11|   hungaroring|         Hungaroring|    Budapest|  Hungary| 47.5789|  19.2486|264|http://en.wikiped...|\n",
      "|       12|      valencia|Valencia Street C...|    Valencia|    Spain| 39.4589|-0.331667|  4|http://en.wikiped...|\n",
      "|       13|           spa|Circuit de Spa-Fr...|         Spa|  Belgium| 50.4372|  5.97139|401|http://en.wikiped...|\n",
      "|       14|         monza|Autodromo Naziona...|       Monza|    Italy| 45.6156|  9.28111|162|http://en.wikiped...|\n",
      "|       15|    marina_bay|Marina Bay Street...|  Marina Bay|Singapore|  1.2914|  103.864| 18|http://en.wikiped...|\n",
      "|       16|          fuji|       Fuji Speedway|       Oyama|    Japan| 35.3717|  138.927|583|http://en.wikiped...|\n",
      "|       17|      shanghai|Shanghai Internat...|    Shanghai|    China| 31.3389|   121.22|  5|http://en.wikiped...|\n",
      "|       18|    interlagos|Autódromo José Ca...|   São Paulo|   Brazil|-23.7036| -46.6997|785|http://en.wikiped...|\n",
      "|       19|  indianapolis|Indianapolis Moto...|Indianapolis|      USA|  39.795| -86.2347|223|http://en.wikiped...|\n",
      "|       20|   nurburgring|         Nürburgring|     Nürburg|  Germany| 50.3356|   6.9475|578|http://en.wikiped...|\n",
      "+---------+--------------+--------------------+------------+---------+--------+---------+---+--------------------+\n",
      "only showing top 20 rows\n",
      "\n"
     ]
    }
   ],
   "source": [
    "circuits_df.show()"
   ]
  },
  {
   "cell_type": "code",
   "execution_count": 95,
   "id": "44455f9a-bee7-4a83-ad0b-2fd6a255f359",
   "metadata": {
    "collapsed": true,
    "jupyter": {
     "outputs_hidden": true
    }
   },
   "outputs": [
    {
     "name": "stdout",
     "output_type": "stream",
     "text": [
      "+------+----+-----+---------+--------------------+----------+--------+--------------------+\n",
      "|raceId|year|round|circuitId|                name|      date|    time|                 url|\n",
      "+------+----+-----+---------+--------------------+----------+--------+--------------------+\n",
      "|     1|2009|    1|        1|Australian Grand ...|2009-03-29|06:00:00|http://en.wikiped...|\n",
      "|     2|2009|    2|        2|Malaysian Grand Prix|2009-04-05|09:00:00|http://en.wikiped...|\n",
      "|     3|2009|    3|       17|  Chinese Grand Prix|2009-04-19|07:00:00|http://en.wikiped...|\n",
      "|     4|2009|    4|        3|  Bahrain Grand Prix|2009-04-26|12:00:00|http://en.wikiped...|\n",
      "|     5|2009|    5|        4|  Spanish Grand Prix|2009-05-10|12:00:00|http://en.wikiped...|\n",
      "|     6|2009|    6|        6|   Monaco Grand Prix|2009-05-24|12:00:00|http://en.wikiped...|\n",
      "|     7|2009|    7|        5|  Turkish Grand Prix|2009-06-07|12:00:00|http://en.wikiped...|\n",
      "|     8|2009|    8|        9|  British Grand Prix|2009-06-21|12:00:00|http://en.wikiped...|\n",
      "|     9|2009|    9|       20|   German Grand Prix|2009-07-12|12:00:00|http://en.wikiped...|\n",
      "|    10|2009|   10|       11|Hungarian Grand Prix|2009-07-26|12:00:00|http://en.wikiped...|\n",
      "|    11|2009|   11|       12| European Grand Prix|2009-08-23|12:00:00|http://en.wikiped...|\n",
      "|    12|2009|   12|       13|  Belgian Grand Prix|2009-08-30|12:00:00|http://en.wikiped...|\n",
      "|    13|2009|   13|       14|  Italian Grand Prix|2009-09-13|12:00:00|http://en.wikiped...|\n",
      "|    14|2009|   14|       15|Singapore Grand Prix|2009-09-27|12:00:00|http://en.wikiped...|\n",
      "|    15|2009|   15|       22| Japanese Grand Prix|2009-10-04|05:00:00|http://en.wikiped...|\n",
      "|    16|2009|   16|       18|Brazilian Grand Prix|2009-10-18|16:00:00|http://en.wikiped...|\n",
      "|    17|2009|   17|       24|Abu Dhabi Grand Prix|2009-11-01|11:00:00|http://en.wikiped...|\n",
      "|    18|2008|    1|        1|Australian Grand ...|2008-03-16|04:30:00|http://en.wikiped...|\n",
      "|    19|2008|    2|        2|Malaysian Grand Prix|2008-03-23|07:00:00|http://en.wikiped...|\n",
      "|    20|2008|    3|        3|  Bahrain Grand Prix|2008-04-06|11:30:00|http://en.wikiped...|\n",
      "+------+----+-----+---------+--------------------+----------+--------+--------------------+\n",
      "only showing top 20 rows\n",
      "\n"
     ]
    }
   ],
   "source": [
    "races_df.show()"
   ]
  },
  {
   "cell_type": "markdown",
   "id": "fcfd801b-2398-43e4-b3fb-aeabd8905882",
   "metadata": {
    "collapsed": true,
    "jupyter": {
     "outputs_hidden": true
    }
   },
   "source": [
    "## Inner Join"
   ]
  },
  {
   "cell_type": "code",
   "execution_count": 96,
   "id": "2df45695-2ead-4725-9c28-f8ee737c0f60",
   "metadata": {
    "collapsed": true,
    "jupyter": {
     "outputs_hidden": true
    }
   },
   "outputs": [
    {
     "name": "stdout",
     "output_type": "stream",
     "text": [
      "+---------+-----------+------------------------------+------------+---------+--------+---------+---+-----------------------------------------------------------------+------+----+-----+---------------------+----------+--------+-------------------------------------------------------+\n",
      "|circuitId|circuitRef |name                          |location    |country  |lat     |lng      |alt|url                                                              |raceId|year|round|name                 |date      |time    |url                                                    |\n",
      "+---------+-----------+------------------------------+------------+---------+--------+---------+---+-----------------------------------------------------------------+------+----+-----+---------------------+----------+--------+-------------------------------------------------------+\n",
      "|1        |albert_park|Albert Park Grand Prix Circuit|Melbourne   |Australia|-37.8497|144.968  |10 |http://en.wikipedia.org/wiki/Melbourne_Grand_Prix_Circuit        |1     |2009|1    |Australian Grand Prix|2009-03-29|06:00:00|http://en.wikipedia.org/wiki/2009_Australian_Grand_Prix|\n",
      "|2        |sepang     |Sepang International Circuit  |Kuala Lumpur|Malaysia |2.76083 |101.738  |18 |http://en.wikipedia.org/wiki/Sepang_International_Circuit        |2     |2009|2    |Malaysian Grand Prix |2009-04-05|09:00:00|http://en.wikipedia.org/wiki/2009_Malaysian_Grand_Prix |\n",
      "|17       |shanghai   |Shanghai International Circuit|Shanghai    |China    |31.3389 |121.22   |5  |http://en.wikipedia.org/wiki/Shanghai_International_Circuit      |3     |2009|3    |Chinese Grand Prix   |2009-04-19|07:00:00|http://en.wikipedia.org/wiki/2009_Chinese_Grand_Prix   |\n",
      "|3        |bahrain    |Bahrain International Circuit |Sakhir      |Bahrain  |26.0325 |50.5106  |7  |http://en.wikipedia.org/wiki/Bahrain_International_Circuit       |4     |2009|4    |Bahrain Grand Prix   |2009-04-26|12:00:00|http://en.wikipedia.org/wiki/2009_Bahrain_Grand_Prix   |\n",
      "|4        |catalunya  |Circuit de Barcelona-Catalunya|Montmeló    |Spain    |41.57   |2.26111  |109|http://en.wikipedia.org/wiki/Circuit_de_Barcelona-Catalunya      |5     |2009|5    |Spanish Grand Prix   |2009-05-10|12:00:00|http://en.wikipedia.org/wiki/2009_Spanish_Grand_Prix   |\n",
      "|6        |monaco     |Circuit de Monaco             |Monte-Carlo |Monaco   |43.7347 |7.42056  |7  |http://en.wikipedia.org/wiki/Circuit_de_Monaco                   |6     |2009|6    |Monaco Grand Prix    |2009-05-24|12:00:00|http://en.wikipedia.org/wiki/2009_Monaco_Grand_Prix    |\n",
      "|5        |istanbul   |Istanbul Park                 |Istanbul    |Turkey   |40.9517 |29.405   |130|http://en.wikipedia.org/wiki/Istanbul_Park                       |7     |2009|7    |Turkish Grand Prix   |2009-06-07|12:00:00|http://en.wikipedia.org/wiki/2009_Turkish_Grand_Prix   |\n",
      "|9        |silverstone|Silverstone Circuit           |Silverstone |UK       |52.0786 |-1.01694 |153|http://en.wikipedia.org/wiki/Silverstone_Circuit                 |8     |2009|8    |British Grand Prix   |2009-06-21|12:00:00|http://en.wikipedia.org/wiki/2009_British_Grand_Prix   |\n",
      "|20       |nurburgring|Nürburgring                   |Nürburg     |Germany  |50.3356 |6.9475   |578|http://en.wikipedia.org/wiki/N%C3%BCrburgring                    |9     |2009|9    |German Grand Prix    |2009-07-12|12:00:00|http://en.wikipedia.org/wiki/2009_German_Grand_Prix    |\n",
      "|11       |hungaroring|Hungaroring                   |Budapest    |Hungary  |47.5789 |19.2486  |264|http://en.wikipedia.org/wiki/Hungaroring                         |10    |2009|10   |Hungarian Grand Prix |2009-07-26|12:00:00|http://en.wikipedia.org/wiki/2009_Hungarian_Grand_Prix |\n",
      "|12       |valencia   |Valencia Street Circuit       |Valencia    |Spain    |39.4589 |-0.331667|4  |http://en.wikipedia.org/wiki/Valencia_Street_Circuit             |11    |2009|11   |European Grand Prix  |2009-08-23|12:00:00|http://en.wikipedia.org/wiki/2009_European_Grand_Prix  |\n",
      "|13       |spa        |Circuit de Spa-Francorchamps  |Spa         |Belgium  |50.4372 |5.97139  |401|http://en.wikipedia.org/wiki/Circuit_de_Spa-Francorchamps        |12    |2009|12   |Belgian Grand Prix   |2009-08-30|12:00:00|http://en.wikipedia.org/wiki/2009_Belgian_Grand_Prix   |\n",
      "|14       |monza      |Autodromo Nazionale di Monza  |Monza       |Italy    |45.6156 |9.28111  |162|http://en.wikipedia.org/wiki/Autodromo_Nazionale_Monza           |13    |2009|13   |Italian Grand Prix   |2009-09-13|12:00:00|http://en.wikipedia.org/wiki/2009_Italian_Grand_Prix   |\n",
      "|15       |marina_bay |Marina Bay Street Circuit     |Marina Bay  |Singapore|1.2914  |103.864  |18 |http://en.wikipedia.org/wiki/Marina_Bay_Street_Circuit           |14    |2009|14   |Singapore Grand Prix |2009-09-27|12:00:00|http://en.wikipedia.org/wiki/2009_Singapore_Grand_Prix |\n",
      "|22       |suzuka     |Suzuka Circuit                |Suzuka      |Japan    |34.8431 |136.541  |45 |http://en.wikipedia.org/wiki/Suzuka_Circuit                      |15    |2009|15   |Japanese Grand Prix  |2009-10-04|05:00:00|http://en.wikipedia.org/wiki/2009_Japanese_Grand_Prix  |\n",
      "|18       |interlagos |Autódromo José Carlos Pace    |São Paulo   |Brazil   |-23.7036|-46.6997 |785|http://en.wikipedia.org/wiki/Aut%C3%B3dromo_Jos%C3%A9_Carlos_Pace|16    |2009|16   |Brazilian Grand Prix |2009-10-18|16:00:00|http://en.wikipedia.org/wiki/2009_Brazilian_Grand_Prix |\n",
      "|24       |yas_marina |Yas Marina Circuit            |Abu Dhabi   |UAE      |24.4672 |54.6031  |3  |http://en.wikipedia.org/wiki/Yas_Marina_Circuit                  |17    |2009|17   |Abu Dhabi Grand Prix |2009-11-01|11:00:00|http://en.wikipedia.org/wiki/2009_Abu_Dhabi_Grand_Prix |\n",
      "|1        |albert_park|Albert Park Grand Prix Circuit|Melbourne   |Australia|-37.8497|144.968  |10 |http://en.wikipedia.org/wiki/Melbourne_Grand_Prix_Circuit        |18    |2008|1    |Australian Grand Prix|2008-03-16|04:30:00|http://en.wikipedia.org/wiki/2008_Australian_Grand_Prix|\n",
      "|2        |sepang     |Sepang International Circuit  |Kuala Lumpur|Malaysia |2.76083 |101.738  |18 |http://en.wikipedia.org/wiki/Sepang_International_Circuit        |19    |2008|2    |Malaysian Grand Prix |2008-03-23|07:00:00|http://en.wikipedia.org/wiki/2008_Malaysian_Grand_Prix |\n",
      "|3        |bahrain    |Bahrain International Circuit |Sakhir      |Bahrain  |26.0325 |50.5106  |7  |http://en.wikipedia.org/wiki/Bahrain_International_Circuit       |20    |2008|3    |Bahrain Grand Prix   |2008-04-06|11:30:00|http://en.wikipedia.org/wiki/2008_Bahrain_Grand_Prix   |\n",
      "+---------+-----------+------------------------------+------------+---------+--------+---------+---+-----------------------------------------------------------------+------+----+-----+---------------------+----------+--------+-------------------------------------------------------+\n",
      "only showing top 20 rows\n",
      "\n"
     ]
    }
   ],
   "source": [
    "inner_join_df = circuits_df.join(races_df, on=\"circuitId\", how=\"inner\")\n",
    "inner_join_df.show(truncate=False)"
   ]
  },
  {
   "cell_type": "markdown",
   "id": "930e3e59-7973-4c86-8163-fda8f54b0c14",
   "metadata": {},
   "source": [
    "## Left Join"
   ]
  },
  {
   "cell_type": "code",
   "execution_count": 97,
   "id": "bdcd3593-81db-4149-97ef-232f6e18607c",
   "metadata": {
    "collapsed": true,
    "jupyter": {
     "outputs_hidden": true
    }
   },
   "outputs": [
    {
     "name": "stdout",
     "output_type": "stream",
     "text": [
      "+---------+-----------+------------------------------+---------+---------+--------+-------+---+---------------------------------------------------------+------+----+-----+---------------------+----------+--------+--------------------------------------------------------+\n",
      "|circuitId|circuitRef |name                          |location |country  |lat     |lng    |alt|url                                                      |raceId|year|round|name                 |date      |time    |url                                                     |\n",
      "+---------+-----------+------------------------------+---------+---------+--------+-------+---+---------------------------------------------------------+------+----+-----+---------------------+----------+--------+--------------------------------------------------------+\n",
      "|1        |albert_park|Albert Park Grand Prix Circuit|Melbourne|Australia|-37.8497|144.968|10 |http://en.wikipedia.org/wiki/Melbourne_Grand_Prix_Circuit|1051  |2021|21   |Australian Grand Prix|2021-11-21|06:00:00|http://en.wikipedia.org/wiki/2021_Australian_Grand_Prix |\n",
      "|1        |albert_park|Albert Park Grand Prix Circuit|Melbourne|Australia|-37.8497|144.968|10 |http://en.wikipedia.org/wiki/Melbourne_Grand_Prix_Circuit|1010  |2019|1    |Australian Grand Prix|2019-03-17|05:10:00|https://en.wikipedia.org/wiki/2019_Australian_Grand_Prix|\n",
      "|1        |albert_park|Albert Park Grand Prix Circuit|Melbourne|Australia|-37.8497|144.968|10 |http://en.wikipedia.org/wiki/Melbourne_Grand_Prix_Circuit|989   |2018|1    |Australian Grand Prix|2018-03-25|05:10:00|https://en.wikipedia.org/wiki/2018_Australian_Grand_Prix|\n",
      "|1        |albert_park|Albert Park Grand Prix Circuit|Melbourne|Australia|-37.8497|144.968|10 |http://en.wikipedia.org/wiki/Melbourne_Grand_Prix_Circuit|969   |2017|1    |Australian Grand Prix|2017-03-26|05:00:00|https://en.wikipedia.org/wiki/2017_Australian_Grand_Prix|\n",
      "|1        |albert_park|Albert Park Grand Prix Circuit|Melbourne|Australia|-37.8497|144.968|10 |http://en.wikipedia.org/wiki/Melbourne_Grand_Prix_Circuit|948   |2016|1    |Australian Grand Prix|2016-03-20|05:00:00|https://en.wikipedia.org/wiki/2016_Australian_Grand_Prix|\n",
      "|1        |albert_park|Albert Park Grand Prix Circuit|Melbourne|Australia|-37.8497|144.968|10 |http://en.wikipedia.org/wiki/Melbourne_Grand_Prix_Circuit|926   |2015|1    |Australian Grand Prix|2015-03-15|05:00:00|http://en.wikipedia.org/wiki/2015_Australian_Grand_Prix |\n",
      "|1        |albert_park|Albert Park Grand Prix Circuit|Melbourne|Australia|-37.8497|144.968|10 |http://en.wikipedia.org/wiki/Melbourne_Grand_Prix_Circuit|900   |2014|1    |Australian Grand Prix|2014-03-16|06:00:00|https://en.wikipedia.org/wiki/2014_Australian_Grand_Prix|\n",
      "|1        |albert_park|Albert Park Grand Prix Circuit|Melbourne|Australia|-37.8497|144.968|10 |http://en.wikipedia.org/wiki/Melbourne_Grand_Prix_Circuit|880   |2013|1    |Australian Grand Prix|2013-03-17|06:00:00|http://en.wikipedia.org/wiki/2013_Australian_Grand_Prix |\n",
      "|1        |albert_park|Albert Park Grand Prix Circuit|Melbourne|Australia|-37.8497|144.968|10 |http://en.wikipedia.org/wiki/Melbourne_Grand_Prix_Circuit|860   |2012|1    |Australian Grand Prix|2012-03-18|06:00:00|http://en.wikipedia.org/wiki/2012_Australian_Grand_Prix |\n",
      "|1        |albert_park|Albert Park Grand Prix Circuit|Melbourne|Australia|-37.8497|144.968|10 |http://en.wikipedia.org/wiki/Melbourne_Grand_Prix_Circuit|841   |2011|1    |Australian Grand Prix|2011-03-27|06:00:00|http://en.wikipedia.org/wiki/2011_Australian_Grand_Prix |\n",
      "|1        |albert_park|Albert Park Grand Prix Circuit|Melbourne|Australia|-37.8497|144.968|10 |http://en.wikipedia.org/wiki/Melbourne_Grand_Prix_Circuit|338   |2010|2    |Australian Grand Prix|2010-03-28|06:00:00|http://en.wikipedia.org/wiki/2010_Australian_Grand_Prix |\n",
      "|1        |albert_park|Albert Park Grand Prix Circuit|Melbourne|Australia|-37.8497|144.968|10 |http://en.wikipedia.org/wiki/Melbourne_Grand_Prix_Circuit|224   |1996|1    |Australian Grand Prix|1996-03-10|\\N      |http://en.wikipedia.org/wiki/1996_Australian_Grand_Prix |\n",
      "|1        |albert_park|Albert Park Grand Prix Circuit|Melbourne|Australia|-37.8497|144.968|10 |http://en.wikipedia.org/wiki/Melbourne_Grand_Prix_Circuit|207   |1997|1    |Australian Grand Prix|1997-03-09|\\N      |http://en.wikipedia.org/wiki/1997_Australian_Grand_Prix |\n",
      "|1        |albert_park|Albert Park Grand Prix Circuit|Melbourne|Australia|-37.8497|144.968|10 |http://en.wikipedia.org/wiki/Melbourne_Grand_Prix_Circuit|191   |1998|1    |Australian Grand Prix|1998-03-08|\\N      |http://en.wikipedia.org/wiki/1998_Australian_Grand_Prix |\n",
      "|1        |albert_park|Albert Park Grand Prix Circuit|Melbourne|Australia|-37.8497|144.968|10 |http://en.wikipedia.org/wiki/Melbourne_Grand_Prix_Circuit|175   |1999|1    |Australian Grand Prix|1999-03-07|\\N      |http://en.wikipedia.org/wiki/1999_Australian_Grand_Prix |\n",
      "|1        |albert_park|Albert Park Grand Prix Circuit|Melbourne|Australia|-37.8497|144.968|10 |http://en.wikipedia.org/wiki/Melbourne_Grand_Prix_Circuit|158   |2000|1    |Australian Grand Prix|2000-03-12|\\N      |http://en.wikipedia.org/wiki/2000_Australian_Grand_Prix |\n",
      "|1        |albert_park|Albert Park Grand Prix Circuit|Melbourne|Australia|-37.8497|144.968|10 |http://en.wikipedia.org/wiki/Melbourne_Grand_Prix_Circuit|141   |2001|1    |Australian Grand Prix|2001-03-04|\\N      |http://en.wikipedia.org/wiki/2001_Australian_Grand_Prix |\n",
      "|1        |albert_park|Albert Park Grand Prix Circuit|Melbourne|Australia|-37.8497|144.968|10 |http://en.wikipedia.org/wiki/Melbourne_Grand_Prix_Circuit|124   |2002|1    |Australian Grand Prix|2002-03-03|\\N      |http://en.wikipedia.org/wiki/2002_Australian_Grand_Prix |\n",
      "|1        |albert_park|Albert Park Grand Prix Circuit|Melbourne|Australia|-37.8497|144.968|10 |http://en.wikipedia.org/wiki/Melbourne_Grand_Prix_Circuit|108   |2003|1    |Australian Grand Prix|2003-03-09|\\N      |http://en.wikipedia.org/wiki/2003_Australian_Grand_Prix |\n",
      "|1        |albert_park|Albert Park Grand Prix Circuit|Melbourne|Australia|-37.8497|144.968|10 |http://en.wikipedia.org/wiki/Melbourne_Grand_Prix_Circuit|90    |2004|1    |Australian Grand Prix|2004-03-07|\\N      |http://en.wikipedia.org/wiki/2004_Australian_Grand_Prix |\n",
      "+---------+-----------+------------------------------+---------+---------+--------+-------+---+---------------------------------------------------------+------+----+-----+---------------------+----------+--------+--------------------------------------------------------+\n",
      "only showing top 20 rows\n",
      "\n"
     ]
    }
   ],
   "source": [
    "left_join_df = circuits_df.join(races_df, on=\"circuitId\", how=\"left\")\n",
    "left_join_df.show(truncate=False)"
   ]
  },
  {
   "cell_type": "markdown",
   "id": "08390752-4f86-4787-9200-ac84c962f2df",
   "metadata": {},
   "source": [
    "## Right Join"
   ]
  },
  {
   "cell_type": "code",
   "execution_count": 98,
   "id": "f6b51de7-882a-4680-80cf-487f58dee0ad",
   "metadata": {
    "collapsed": true,
    "jupyter": {
     "outputs_hidden": true
    }
   },
   "outputs": [
    {
     "name": "stdout",
     "output_type": "stream",
     "text": [
      "+---------+-----------+------------------------------+------------+---------+--------+---------+---+-----------------------------------------------------------------+------+----+-----+---------------------+----------+--------+-------------------------------------------------------+\n",
      "|circuitId|circuitRef |name                          |location    |country  |lat     |lng      |alt|url                                                              |raceId|year|round|name                 |date      |time    |url                                                    |\n",
      "+---------+-----------+------------------------------+------------+---------+--------+---------+---+-----------------------------------------------------------------+------+----+-----+---------------------+----------+--------+-------------------------------------------------------+\n",
      "|1        |albert_park|Albert Park Grand Prix Circuit|Melbourne   |Australia|-37.8497|144.968  |10 |http://en.wikipedia.org/wiki/Melbourne_Grand_Prix_Circuit        |1     |2009|1    |Australian Grand Prix|2009-03-29|06:00:00|http://en.wikipedia.org/wiki/2009_Australian_Grand_Prix|\n",
      "|2        |sepang     |Sepang International Circuit  |Kuala Lumpur|Malaysia |2.76083 |101.738  |18 |http://en.wikipedia.org/wiki/Sepang_International_Circuit        |2     |2009|2    |Malaysian Grand Prix |2009-04-05|09:00:00|http://en.wikipedia.org/wiki/2009_Malaysian_Grand_Prix |\n",
      "|17       |shanghai   |Shanghai International Circuit|Shanghai    |China    |31.3389 |121.22   |5  |http://en.wikipedia.org/wiki/Shanghai_International_Circuit      |3     |2009|3    |Chinese Grand Prix   |2009-04-19|07:00:00|http://en.wikipedia.org/wiki/2009_Chinese_Grand_Prix   |\n",
      "|3        |bahrain    |Bahrain International Circuit |Sakhir      |Bahrain  |26.0325 |50.5106  |7  |http://en.wikipedia.org/wiki/Bahrain_International_Circuit       |4     |2009|4    |Bahrain Grand Prix   |2009-04-26|12:00:00|http://en.wikipedia.org/wiki/2009_Bahrain_Grand_Prix   |\n",
      "|4        |catalunya  |Circuit de Barcelona-Catalunya|Montmeló    |Spain    |41.57   |2.26111  |109|http://en.wikipedia.org/wiki/Circuit_de_Barcelona-Catalunya      |5     |2009|5    |Spanish Grand Prix   |2009-05-10|12:00:00|http://en.wikipedia.org/wiki/2009_Spanish_Grand_Prix   |\n",
      "|6        |monaco     |Circuit de Monaco             |Monte-Carlo |Monaco   |43.7347 |7.42056  |7  |http://en.wikipedia.org/wiki/Circuit_de_Monaco                   |6     |2009|6    |Monaco Grand Prix    |2009-05-24|12:00:00|http://en.wikipedia.org/wiki/2009_Monaco_Grand_Prix    |\n",
      "|5        |istanbul   |Istanbul Park                 |Istanbul    |Turkey   |40.9517 |29.405   |130|http://en.wikipedia.org/wiki/Istanbul_Park                       |7     |2009|7    |Turkish Grand Prix   |2009-06-07|12:00:00|http://en.wikipedia.org/wiki/2009_Turkish_Grand_Prix   |\n",
      "|9        |silverstone|Silverstone Circuit           |Silverstone |UK       |52.0786 |-1.01694 |153|http://en.wikipedia.org/wiki/Silverstone_Circuit                 |8     |2009|8    |British Grand Prix   |2009-06-21|12:00:00|http://en.wikipedia.org/wiki/2009_British_Grand_Prix   |\n",
      "|20       |nurburgring|Nürburgring                   |Nürburg     |Germany  |50.3356 |6.9475   |578|http://en.wikipedia.org/wiki/N%C3%BCrburgring                    |9     |2009|9    |German Grand Prix    |2009-07-12|12:00:00|http://en.wikipedia.org/wiki/2009_German_Grand_Prix    |\n",
      "|11       |hungaroring|Hungaroring                   |Budapest    |Hungary  |47.5789 |19.2486  |264|http://en.wikipedia.org/wiki/Hungaroring                         |10    |2009|10   |Hungarian Grand Prix |2009-07-26|12:00:00|http://en.wikipedia.org/wiki/2009_Hungarian_Grand_Prix |\n",
      "|12       |valencia   |Valencia Street Circuit       |Valencia    |Spain    |39.4589 |-0.331667|4  |http://en.wikipedia.org/wiki/Valencia_Street_Circuit             |11    |2009|11   |European Grand Prix  |2009-08-23|12:00:00|http://en.wikipedia.org/wiki/2009_European_Grand_Prix  |\n",
      "|13       |spa        |Circuit de Spa-Francorchamps  |Spa         |Belgium  |50.4372 |5.97139  |401|http://en.wikipedia.org/wiki/Circuit_de_Spa-Francorchamps        |12    |2009|12   |Belgian Grand Prix   |2009-08-30|12:00:00|http://en.wikipedia.org/wiki/2009_Belgian_Grand_Prix   |\n",
      "|14       |monza      |Autodromo Nazionale di Monza  |Monza       |Italy    |45.6156 |9.28111  |162|http://en.wikipedia.org/wiki/Autodromo_Nazionale_Monza           |13    |2009|13   |Italian Grand Prix   |2009-09-13|12:00:00|http://en.wikipedia.org/wiki/2009_Italian_Grand_Prix   |\n",
      "|15       |marina_bay |Marina Bay Street Circuit     |Marina Bay  |Singapore|1.2914  |103.864  |18 |http://en.wikipedia.org/wiki/Marina_Bay_Street_Circuit           |14    |2009|14   |Singapore Grand Prix |2009-09-27|12:00:00|http://en.wikipedia.org/wiki/2009_Singapore_Grand_Prix |\n",
      "|22       |suzuka     |Suzuka Circuit                |Suzuka      |Japan    |34.8431 |136.541  |45 |http://en.wikipedia.org/wiki/Suzuka_Circuit                      |15    |2009|15   |Japanese Grand Prix  |2009-10-04|05:00:00|http://en.wikipedia.org/wiki/2009_Japanese_Grand_Prix  |\n",
      "|18       |interlagos |Autódromo José Carlos Pace    |São Paulo   |Brazil   |-23.7036|-46.6997 |785|http://en.wikipedia.org/wiki/Aut%C3%B3dromo_Jos%C3%A9_Carlos_Pace|16    |2009|16   |Brazilian Grand Prix |2009-10-18|16:00:00|http://en.wikipedia.org/wiki/2009_Brazilian_Grand_Prix |\n",
      "|24       |yas_marina |Yas Marina Circuit            |Abu Dhabi   |UAE      |24.4672 |54.6031  |3  |http://en.wikipedia.org/wiki/Yas_Marina_Circuit                  |17    |2009|17   |Abu Dhabi Grand Prix |2009-11-01|11:00:00|http://en.wikipedia.org/wiki/2009_Abu_Dhabi_Grand_Prix |\n",
      "|1        |albert_park|Albert Park Grand Prix Circuit|Melbourne   |Australia|-37.8497|144.968  |10 |http://en.wikipedia.org/wiki/Melbourne_Grand_Prix_Circuit        |18    |2008|1    |Australian Grand Prix|2008-03-16|04:30:00|http://en.wikipedia.org/wiki/2008_Australian_Grand_Prix|\n",
      "|2        |sepang     |Sepang International Circuit  |Kuala Lumpur|Malaysia |2.76083 |101.738  |18 |http://en.wikipedia.org/wiki/Sepang_International_Circuit        |19    |2008|2    |Malaysian Grand Prix |2008-03-23|07:00:00|http://en.wikipedia.org/wiki/2008_Malaysian_Grand_Prix |\n",
      "|3        |bahrain    |Bahrain International Circuit |Sakhir      |Bahrain  |26.0325 |50.5106  |7  |http://en.wikipedia.org/wiki/Bahrain_International_Circuit       |20    |2008|3    |Bahrain Grand Prix   |2008-04-06|11:30:00|http://en.wikipedia.org/wiki/2008_Bahrain_Grand_Prix   |\n",
      "+---------+-----------+------------------------------+------------+---------+--------+---------+---+-----------------------------------------------------------------+------+----+-----+---------------------+----------+--------+-------------------------------------------------------+\n",
      "only showing top 20 rows\n",
      "\n"
     ]
    }
   ],
   "source": [
    "right_join_df = circuits_df.join(races_df, on=\"circuitId\", how=\"right\")\n",
    "right_join_df.show(truncate=False)"
   ]
  },
  {
   "cell_type": "markdown",
   "id": "78c280f9-375e-423e-878d-11e979839b3e",
   "metadata": {},
   "source": [
    "## Full Outer Join"
   ]
  },
  {
   "cell_type": "code",
   "execution_count": 99,
   "id": "e29efb48-9f2a-4fd2-b567-bbea0ba258a4",
   "metadata": {
    "collapsed": true,
    "jupyter": {
     "outputs_hidden": true
    }
   },
   "outputs": [
    {
     "name": "stdout",
     "output_type": "stream",
     "text": [
      "+---------+-----------+------------------------------+---------+---------+--------+-------+---+---------------------------------------------------------+------+----+-----+---------------------+----------+--------+--------------------------------------------------------+\n",
      "|circuitId|circuitRef |name                          |location |country  |lat     |lng    |alt|url                                                      |raceId|year|round|name                 |date      |time    |url                                                     |\n",
      "+---------+-----------+------------------------------+---------+---------+--------+-------+---+---------------------------------------------------------+------+----+-----+---------------------+----------+--------+--------------------------------------------------------+\n",
      "|1        |albert_park|Albert Park Grand Prix Circuit|Melbourne|Australia|-37.8497|144.968|10 |http://en.wikipedia.org/wiki/Melbourne_Grand_Prix_Circuit|1     |2009|1    |Australian Grand Prix|2009-03-29|06:00:00|http://en.wikipedia.org/wiki/2009_Australian_Grand_Prix |\n",
      "|1        |albert_park|Albert Park Grand Prix Circuit|Melbourne|Australia|-37.8497|144.968|10 |http://en.wikipedia.org/wiki/Melbourne_Grand_Prix_Circuit|18    |2008|1    |Australian Grand Prix|2008-03-16|04:30:00|http://en.wikipedia.org/wiki/2008_Australian_Grand_Prix |\n",
      "|1        |albert_park|Albert Park Grand Prix Circuit|Melbourne|Australia|-37.8497|144.968|10 |http://en.wikipedia.org/wiki/Melbourne_Grand_Prix_Circuit|36    |2007|1    |Australian Grand Prix|2007-03-18|03:00:00|http://en.wikipedia.org/wiki/2007_Australian_Grand_Prix |\n",
      "|1        |albert_park|Albert Park Grand Prix Circuit|Melbourne|Australia|-37.8497|144.968|10 |http://en.wikipedia.org/wiki/Melbourne_Grand_Prix_Circuit|55    |2006|3    |Australian Grand Prix|2006-04-02|14:00:00|http://en.wikipedia.org/wiki/2006_Australian_Grand_Prix |\n",
      "|1        |albert_park|Albert Park Grand Prix Circuit|Melbourne|Australia|-37.8497|144.968|10 |http://en.wikipedia.org/wiki/Melbourne_Grand_Prix_Circuit|71    |2005|1    |Australian Grand Prix|2005-03-06|14:00:00|http://en.wikipedia.org/wiki/2005_Australian_Grand_Prix |\n",
      "|1        |albert_park|Albert Park Grand Prix Circuit|Melbourne|Australia|-37.8497|144.968|10 |http://en.wikipedia.org/wiki/Melbourne_Grand_Prix_Circuit|90    |2004|1    |Australian Grand Prix|2004-03-07|\\N      |http://en.wikipedia.org/wiki/2004_Australian_Grand_Prix |\n",
      "|1        |albert_park|Albert Park Grand Prix Circuit|Melbourne|Australia|-37.8497|144.968|10 |http://en.wikipedia.org/wiki/Melbourne_Grand_Prix_Circuit|108   |2003|1    |Australian Grand Prix|2003-03-09|\\N      |http://en.wikipedia.org/wiki/2003_Australian_Grand_Prix |\n",
      "|1        |albert_park|Albert Park Grand Prix Circuit|Melbourne|Australia|-37.8497|144.968|10 |http://en.wikipedia.org/wiki/Melbourne_Grand_Prix_Circuit|124   |2002|1    |Australian Grand Prix|2002-03-03|\\N      |http://en.wikipedia.org/wiki/2002_Australian_Grand_Prix |\n",
      "|1        |albert_park|Albert Park Grand Prix Circuit|Melbourne|Australia|-37.8497|144.968|10 |http://en.wikipedia.org/wiki/Melbourne_Grand_Prix_Circuit|141   |2001|1    |Australian Grand Prix|2001-03-04|\\N      |http://en.wikipedia.org/wiki/2001_Australian_Grand_Prix |\n",
      "|1        |albert_park|Albert Park Grand Prix Circuit|Melbourne|Australia|-37.8497|144.968|10 |http://en.wikipedia.org/wiki/Melbourne_Grand_Prix_Circuit|158   |2000|1    |Australian Grand Prix|2000-03-12|\\N      |http://en.wikipedia.org/wiki/2000_Australian_Grand_Prix |\n",
      "|1        |albert_park|Albert Park Grand Prix Circuit|Melbourne|Australia|-37.8497|144.968|10 |http://en.wikipedia.org/wiki/Melbourne_Grand_Prix_Circuit|175   |1999|1    |Australian Grand Prix|1999-03-07|\\N      |http://en.wikipedia.org/wiki/1999_Australian_Grand_Prix |\n",
      "|1        |albert_park|Albert Park Grand Prix Circuit|Melbourne|Australia|-37.8497|144.968|10 |http://en.wikipedia.org/wiki/Melbourne_Grand_Prix_Circuit|191   |1998|1    |Australian Grand Prix|1998-03-08|\\N      |http://en.wikipedia.org/wiki/1998_Australian_Grand_Prix |\n",
      "|1        |albert_park|Albert Park Grand Prix Circuit|Melbourne|Australia|-37.8497|144.968|10 |http://en.wikipedia.org/wiki/Melbourne_Grand_Prix_Circuit|207   |1997|1    |Australian Grand Prix|1997-03-09|\\N      |http://en.wikipedia.org/wiki/1997_Australian_Grand_Prix |\n",
      "|1        |albert_park|Albert Park Grand Prix Circuit|Melbourne|Australia|-37.8497|144.968|10 |http://en.wikipedia.org/wiki/Melbourne_Grand_Prix_Circuit|224   |1996|1    |Australian Grand Prix|1996-03-10|\\N      |http://en.wikipedia.org/wiki/1996_Australian_Grand_Prix |\n",
      "|1        |albert_park|Albert Park Grand Prix Circuit|Melbourne|Australia|-37.8497|144.968|10 |http://en.wikipedia.org/wiki/Melbourne_Grand_Prix_Circuit|338   |2010|2    |Australian Grand Prix|2010-03-28|06:00:00|http://en.wikipedia.org/wiki/2010_Australian_Grand_Prix |\n",
      "|1        |albert_park|Albert Park Grand Prix Circuit|Melbourne|Australia|-37.8497|144.968|10 |http://en.wikipedia.org/wiki/Melbourne_Grand_Prix_Circuit|841   |2011|1    |Australian Grand Prix|2011-03-27|06:00:00|http://en.wikipedia.org/wiki/2011_Australian_Grand_Prix |\n",
      "|1        |albert_park|Albert Park Grand Prix Circuit|Melbourne|Australia|-37.8497|144.968|10 |http://en.wikipedia.org/wiki/Melbourne_Grand_Prix_Circuit|860   |2012|1    |Australian Grand Prix|2012-03-18|06:00:00|http://en.wikipedia.org/wiki/2012_Australian_Grand_Prix |\n",
      "|1        |albert_park|Albert Park Grand Prix Circuit|Melbourne|Australia|-37.8497|144.968|10 |http://en.wikipedia.org/wiki/Melbourne_Grand_Prix_Circuit|880   |2013|1    |Australian Grand Prix|2013-03-17|06:00:00|http://en.wikipedia.org/wiki/2013_Australian_Grand_Prix |\n",
      "|1        |albert_park|Albert Park Grand Prix Circuit|Melbourne|Australia|-37.8497|144.968|10 |http://en.wikipedia.org/wiki/Melbourne_Grand_Prix_Circuit|900   |2014|1    |Australian Grand Prix|2014-03-16|06:00:00|https://en.wikipedia.org/wiki/2014_Australian_Grand_Prix|\n",
      "|1        |albert_park|Albert Park Grand Prix Circuit|Melbourne|Australia|-37.8497|144.968|10 |http://en.wikipedia.org/wiki/Melbourne_Grand_Prix_Circuit|926   |2015|1    |Australian Grand Prix|2015-03-15|05:00:00|http://en.wikipedia.org/wiki/2015_Australian_Grand_Prix |\n",
      "+---------+-----------+------------------------------+---------+---------+--------+-------+---+---------------------------------------------------------+------+----+-----+---------------------+----------+--------+--------------------------------------------------------+\n",
      "only showing top 20 rows\n",
      "\n"
     ]
    }
   ],
   "source": [
    "full_outer_join_df = circuits_df.join(races_df, on=\"circuitId\", how=\"outer\")\n",
    "full_outer_join_df.show(truncate=False)"
   ]
  },
  {
   "cell_type": "markdown",
   "id": "c325351c-79f1-4567-8d41-4b0276c62d6b",
   "metadata": {},
   "source": [
    "## User Defined functions (UDF)"
   ]
  },
  {
   "cell_type": "code",
   "execution_count": 101,
   "id": "75ec3daf-44a4-4143-839c-5226bb25b904",
   "metadata": {
    "collapsed": true,
    "jupyter": {
     "outputs_hidden": true
    }
   },
   "outputs": [
    {
     "name": "stdout",
     "output_type": "stream",
     "text": [
      "+---------+--------------+--------------------+------------+---------+--------+---------+---+--------------------+\n",
      "|circuitId|    circuitRef|                name|    location|  country|     lat|      lng|alt|                 url|\n",
      "+---------+--------------+--------------------+------------+---------+--------+---------+---+--------------------+\n",
      "|        1|   albert_park|Albert Park Grand...|   Melbourne|Australia|-37.8497|  144.968| 10|http://en.wikiped...|\n",
      "|        2|        sepang|Sepang Internatio...|Kuala Lumpur| Malaysia| 2.76083|  101.738| 18|http://en.wikiped...|\n",
      "|        3|       bahrain|Bahrain Internati...|      Sakhir|  Bahrain| 26.0325|  50.5106|  7|http://en.wikiped...|\n",
      "|        4|     catalunya|Circuit de Barcel...|    Montmeló|    Spain|   41.57|  2.26111|109|http://en.wikiped...|\n",
      "|        5|      istanbul|       Istanbul Park|    Istanbul|   Turkey| 40.9517|   29.405|130|http://en.wikiped...|\n",
      "|        6|        monaco|   Circuit de Monaco| Monte-Carlo|   Monaco| 43.7347|  7.42056|  7|http://en.wikiped...|\n",
      "|        7|    villeneuve|Circuit Gilles Vi...|    Montreal|   Canada|    45.5| -73.5228| 13|http://en.wikiped...|\n",
      "|        8|   magny_cours|Circuit de Nevers...| Magny Cours|   France| 46.8642|  3.16361|228|http://en.wikiped...|\n",
      "|        9|   silverstone| Silverstone Circuit| Silverstone|       UK| 52.0786| -1.01694|153|http://en.wikiped...|\n",
      "|       10|hockenheimring|      Hockenheimring|  Hockenheim|  Germany| 49.3278|  8.56583|103|http://en.wikiped...|\n",
      "|       11|   hungaroring|         Hungaroring|    Budapest|  Hungary| 47.5789|  19.2486|264|http://en.wikiped...|\n",
      "|       12|      valencia|Valencia Street C...|    Valencia|    Spain| 39.4589|-0.331667|  4|http://en.wikiped...|\n",
      "|       13|           spa|Circuit de Spa-Fr...|         Spa|  Belgium| 50.4372|  5.97139|401|http://en.wikiped...|\n",
      "|       14|         monza|Autodromo Naziona...|       Monza|    Italy| 45.6156|  9.28111|162|http://en.wikiped...|\n",
      "|       15|    marina_bay|Marina Bay Street...|  Marina Bay|Singapore|  1.2914|  103.864| 18|http://en.wikiped...|\n",
      "|       16|          fuji|       Fuji Speedway|       Oyama|    Japan| 35.3717|  138.927|583|http://en.wikiped...|\n",
      "|       17|      shanghai|Shanghai Internat...|    Shanghai|    China| 31.3389|   121.22|  5|http://en.wikiped...|\n",
      "|       18|    interlagos|Autódromo José Ca...|   São Paulo|   Brazil|-23.7036| -46.6997|785|http://en.wikiped...|\n",
      "|       19|  indianapolis|Indianapolis Moto...|Indianapolis|      USA|  39.795| -86.2347|223|http://en.wikiped...|\n",
      "|       20|   nurburgring|         Nürburgring|     Nürburg|  Germany| 50.3356|   6.9475|578|http://en.wikiped...|\n",
      "+---------+--------------+--------------------+------------+---------+--------+---------+---+--------------------+\n",
      "only showing top 20 rows\n",
      "\n"
     ]
    }
   ],
   "source": [
    "circuits_df.show()"
   ]
  },
  {
   "cell_type": "markdown",
   "id": "97033296-b8b4-430d-a361-4b85de79aa9d",
   "metadata": {},
   "source": [
    "### UDF to Categorize Altitude"
   ]
  },
  {
   "cell_type": "code",
   "execution_count": 102,
   "id": "eaa459b4-dbfd-4fb1-ae09-630562369766",
   "metadata": {
    "collapsed": true,
    "jupyter": {
     "outputs_hidden": true
    }
   },
   "outputs": [
    {
     "name": "stdout",
     "output_type": "stream",
     "text": [
      "+---------+--------------+------------------------------+------------+---------+--------+---------+---+-----------------------------------------------------------------+-----------------+\n",
      "|circuitId|circuitRef    |name                          |location    |country  |lat     |lng      |alt|url                                                              |altitude_category|\n",
      "+---------+--------------+------------------------------+------------+---------+--------+---------+---+-----------------------------------------------------------------+-----------------+\n",
      "|1        |albert_park   |Albert Park Grand Prix Circuit|Melbourne   |Australia|-37.8497|144.968  |10 |http://en.wikipedia.org/wiki/Melbourne_Grand_Prix_Circuit        |Low              |\n",
      "|2        |sepang        |Sepang International Circuit  |Kuala Lumpur|Malaysia |2.76083 |101.738  |18 |http://en.wikipedia.org/wiki/Sepang_International_Circuit        |Low              |\n",
      "|3        |bahrain       |Bahrain International Circuit |Sakhir      |Bahrain  |26.0325 |50.5106  |7  |http://en.wikipedia.org/wiki/Bahrain_International_Circuit       |Low              |\n",
      "|4        |catalunya     |Circuit de Barcelona-Catalunya|Montmeló    |Spain    |41.57   |2.26111  |109|http://en.wikipedia.org/wiki/Circuit_de_Barcelona-Catalunya      |High             |\n",
      "|5        |istanbul      |Istanbul Park                 |Istanbul    |Turkey   |40.9517 |29.405   |130|http://en.wikipedia.org/wiki/Istanbul_Park                       |High             |\n",
      "|6        |monaco        |Circuit de Monaco             |Monte-Carlo |Monaco   |43.7347 |7.42056  |7  |http://en.wikipedia.org/wiki/Circuit_de_Monaco                   |Low              |\n",
      "|7        |villeneuve    |Circuit Gilles Villeneuve     |Montreal    |Canada   |45.5    |-73.5228 |13 |http://en.wikipedia.org/wiki/Circuit_Gilles_Villeneuve           |Low              |\n",
      "|8        |magny_cours   |Circuit de Nevers Magny-Cours |Magny Cours |France   |46.8642 |3.16361  |228|http://en.wikipedia.org/wiki/Circuit_de_Nevers_Magny-Cours       |High             |\n",
      "|9        |silverstone   |Silverstone Circuit           |Silverstone |UK       |52.0786 |-1.01694 |153|http://en.wikipedia.org/wiki/Silverstone_Circuit                 |High             |\n",
      "|10       |hockenheimring|Hockenheimring                |Hockenheim  |Germany  |49.3278 |8.56583  |103|http://en.wikipedia.org/wiki/Hockenheimring                      |High             |\n",
      "|11       |hungaroring   |Hungaroring                   |Budapest    |Hungary  |47.5789 |19.2486  |264|http://en.wikipedia.org/wiki/Hungaroring                         |High             |\n",
      "|12       |valencia      |Valencia Street Circuit       |Valencia    |Spain    |39.4589 |-0.331667|4  |http://en.wikipedia.org/wiki/Valencia_Street_Circuit             |Low              |\n",
      "|13       |spa           |Circuit de Spa-Francorchamps  |Spa         |Belgium  |50.4372 |5.97139  |401|http://en.wikipedia.org/wiki/Circuit_de_Spa-Francorchamps        |High             |\n",
      "|14       |monza         |Autodromo Nazionale di Monza  |Monza       |Italy    |45.6156 |9.28111  |162|http://en.wikipedia.org/wiki/Autodromo_Nazionale_Monza           |High             |\n",
      "|15       |marina_bay    |Marina Bay Street Circuit     |Marina Bay  |Singapore|1.2914  |103.864  |18 |http://en.wikipedia.org/wiki/Marina_Bay_Street_Circuit           |Low              |\n",
      "|16       |fuji          |Fuji Speedway                 |Oyama       |Japan    |35.3717 |138.927  |583|http://en.wikipedia.org/wiki/Fuji_Speedway                       |High             |\n",
      "|17       |shanghai      |Shanghai International Circuit|Shanghai    |China    |31.3389 |121.22   |5  |http://en.wikipedia.org/wiki/Shanghai_International_Circuit      |Low              |\n",
      "|18       |interlagos    |Autódromo José Carlos Pace    |São Paulo   |Brazil   |-23.7036|-46.6997 |785|http://en.wikipedia.org/wiki/Aut%C3%B3dromo_Jos%C3%A9_Carlos_Pace|High             |\n",
      "|19       |indianapolis  |Indianapolis Motor Speedway   |Indianapolis|USA      |39.795  |-86.2347 |223|http://en.wikipedia.org/wiki/Indianapolis_Motor_Speedway         |High             |\n",
      "|20       |nurburgring   |Nürburgring                   |Nürburg     |Germany  |50.3356 |6.9475   |578|http://en.wikipedia.org/wiki/N%C3%BCrburgring                    |High             |\n",
      "+---------+--------------+------------------------------+------------+---------+--------+---------+---+-----------------------------------------------------------------+-----------------+\n",
      "only showing top 20 rows\n",
      "\n"
     ]
    }
   ],
   "source": [
    "from pyspark.sql.functions import udf\n",
    "from pyspark.sql.types import StringType\n",
    "\n",
    "def categorize_altitude(altitude):\n",
    "    if altitude < 50:\n",
    "        return \"Low\"\n",
    "    elif 50 <= altitude <= 100:\n",
    "        return \"Medium\"\n",
    "    else:\n",
    "        return \"High\"\n",
    "\n",
    "# Register the UDF\n",
    "categorize_altitude_udf = udf(categorize_altitude, StringType())\n",
    "\n",
    "circuits_with_altitude_category_df = circuits_df.withColumn(\n",
    "    \"altitude_category\", categorize_altitude_udf(col(\"alt\"))\n",
    ")\n",
    "\n",
    "circuits_with_altitude_category_df.show(truncate=False)\n"
   ]
  },
  {
   "cell_type": "markdown",
   "id": "c1cb4423-1a9b-4238-a8e5-7e76bc6a5631",
   "metadata": {},
   "source": [
    "## Window Functions"
   ]
  },
  {
   "cell_type": "code",
   "execution_count": 103,
   "id": "55a44472-1793-4aa5-bf6f-10a67b400293",
   "metadata": {
    "collapsed": true,
    "jupyter": {
     "outputs_hidden": true
    }
   },
   "outputs": [],
   "source": [
    "from pyspark.sql.functions import col, row_number, rank, dense_rank, lag, lead, sum\n",
    "from pyspark.sql.window import Window"
   ]
  },
  {
   "cell_type": "markdown",
   "id": "5c89ee6a-e865-4f15-ac9d-b7266cb03a5a",
   "metadata": {},
   "source": [
    "#### Calculate the total number of races for each year using a window function."
   ]
  },
  {
   "cell_type": "code",
   "execution_count": 104,
   "id": "124c9a61-4f83-41d3-84f8-fd32f4a63823",
   "metadata": {
    "collapsed": true,
    "jupyter": {
     "outputs_hidden": true
    }
   },
   "outputs": [
    {
     "name": "stdout",
     "output_type": "stream",
     "text": [
      "+------+----+-----+---------+------------------+----------+----+----------------------------------------------------+-----------+\n",
      "|raceId|year|round|circuitId|name              |date      |time|url                                                 |total_races|\n",
      "+------+----+-----+---------+------------------+----------+----+----------------------------------------------------+-----------+\n",
      "|833   |1950|1    |9        |British Grand Prix|1950-05-13|\\N  |http://en.wikipedia.org/wiki/1950_British_Grand_Prix|5852       |\n",
      "|834   |1950|2    |6        |Monaco Grand Prix |1950-05-21|\\N  |http://en.wikipedia.org/wiki/1950_Monaco_Grand_Prix |5852       |\n",
      "|835   |1950|3    |19       |Indianapolis 500  |1950-05-30|\\N  |http://en.wikipedia.org/wiki/1950_Indianapolis_500  |5852       |\n",
      "|836   |1950|4    |66       |Swiss Grand Prix  |1950-06-04|\\N  |http://en.wikipedia.org/wiki/1950_Swiss_Grand_Prix  |5852       |\n",
      "|837   |1950|5    |13       |Belgian Grand Prix|1950-06-18|\\N  |http://en.wikipedia.org/wiki/1950_Belgian_Grand_Prix|5852       |\n",
      "|838   |1950|6    |55       |French Grand Prix |1950-07-02|\\N  |http://en.wikipedia.org/wiki/1950_French_Grand_Prix |5852       |\n",
      "|839   |1950|7    |14       |Italian Grand Prix|1950-09-03|\\N  |http://en.wikipedia.org/wiki/1950_Italian_Grand_Prix|5852       |\n",
      "|825   |1951|1    |66       |Swiss Grand Prix  |1951-05-27|\\N  |http://en.wikipedia.org/wiki/1951_Swiss_Grand_Prix  |6628       |\n",
      "|826   |1951|2    |19       |Indianapolis 500  |1951-05-30|\\N  |http://en.wikipedia.org/wiki/1951_Indianapolis_500  |6628       |\n",
      "|827   |1951|3    |13       |Belgian Grand Prix|1951-06-17|\\N  |http://en.wikipedia.org/wiki/1951_Belgian_Grand_Prix|6628       |\n",
      "|828   |1951|4    |55       |French Grand Prix |1951-07-01|\\N  |http://en.wikipedia.org/wiki/1951_French_Grand_Prix |6628       |\n",
      "|829   |1951|5    |9        |British Grand Prix|1951-07-14|\\N  |http://en.wikipedia.org/wiki/1951_British_Grand_Prix|6628       |\n",
      "|830   |1951|6    |20       |German Grand Prix |1951-07-29|\\N  |http://en.wikipedia.org/wiki/1951_German_Grand_Prix |6628       |\n",
      "|831   |1951|7    |14       |Italian Grand Prix|1951-09-16|\\N  |http://en.wikipedia.org/wiki/1951_Italian_Grand_Prix|6628       |\n",
      "|832   |1951|8    |67       |Spanish Grand Prix|1951-10-28|\\N  |http://en.wikipedia.org/wiki/1951_Spanish_Grand_Prix|6628       |\n",
      "|817   |1952|1    |66       |Swiss Grand Prix  |1952-05-18|\\N  |http://en.wikipedia.org/wiki/1952_Swiss_Grand_Prix  |6564       |\n",
      "|818   |1952|2    |19       |Indianapolis 500  |1952-05-30|\\N  |http://en.wikipedia.org/wiki/1952_Indianapolis_500  |6564       |\n",
      "|819   |1952|3    |13       |Belgian Grand Prix|1952-06-22|\\N  |http://en.wikipedia.org/wiki/1952_Belgian_Grand_Prix|6564       |\n",
      "|820   |1952|4    |53       |French Grand Prix |1952-07-06|\\N  |http://en.wikipedia.org/wiki/1952_French_Grand_Prix |6564       |\n",
      "|821   |1952|5    |9        |British Grand Prix|1952-07-19|\\N  |http://en.wikipedia.org/wiki/1952_British_Grand_Prix|6564       |\n",
      "+------+----+-----+---------+------------------+----------+----+----------------------------------------------------+-----------+\n",
      "only showing top 20 rows\n",
      "\n"
     ]
    }
   ],
   "source": [
    "# Define the window specification\n",
    "window_spec_races = Window.partitionBy(\"year\")\n",
    "\n",
    "total_races_per_year_df = races_df.withColumn(\"total_races\", sum(\"raceId\").over(window_spec_races))\n",
    "\n",
    "total_races_per_year_df.show(truncate=False)\n"
   ]
  },
  {
   "cell_type": "markdown",
   "id": "5934b9da-051d-45ba-a245-d1ee2bce8738",
   "metadata": {},
   "source": [
    "#### rank()"
   ]
  },
  {
   "cell_type": "code",
   "execution_count": 105,
   "id": "4b10d417-8530-4f1d-9d9d-9cf4efd2158b",
   "metadata": {
    "collapsed": true,
    "jupyter": {
     "outputs_hidden": true
    }
   },
   "outputs": [
    {
     "name": "stdout",
     "output_type": "stream",
     "text": [
      "+------+----+-----+---------+------------------+----------+----+----------------------------------------------------+----+\n",
      "|raceId|year|round|circuitId|name              |date      |time|url                                                 |rank|\n",
      "+------+----+-----+---------+------------------+----------+----+----------------------------------------------------+----+\n",
      "|833   |1950|1    |9        |British Grand Prix|1950-05-13|\\N  |http://en.wikipedia.org/wiki/1950_British_Grand_Prix|1   |\n",
      "|834   |1950|2    |6        |Monaco Grand Prix |1950-05-21|\\N  |http://en.wikipedia.org/wiki/1950_Monaco_Grand_Prix |2   |\n",
      "|835   |1950|3    |19       |Indianapolis 500  |1950-05-30|\\N  |http://en.wikipedia.org/wiki/1950_Indianapolis_500  |3   |\n",
      "|836   |1950|4    |66       |Swiss Grand Prix  |1950-06-04|\\N  |http://en.wikipedia.org/wiki/1950_Swiss_Grand_Prix  |4   |\n",
      "|837   |1950|5    |13       |Belgian Grand Prix|1950-06-18|\\N  |http://en.wikipedia.org/wiki/1950_Belgian_Grand_Prix|5   |\n",
      "|838   |1950|6    |55       |French Grand Prix |1950-07-02|\\N  |http://en.wikipedia.org/wiki/1950_French_Grand_Prix |6   |\n",
      "|839   |1950|7    |14       |Italian Grand Prix|1950-09-03|\\N  |http://en.wikipedia.org/wiki/1950_Italian_Grand_Prix|7   |\n",
      "|825   |1951|1    |66       |Swiss Grand Prix  |1951-05-27|\\N  |http://en.wikipedia.org/wiki/1951_Swiss_Grand_Prix  |1   |\n",
      "|826   |1951|2    |19       |Indianapolis 500  |1951-05-30|\\N  |http://en.wikipedia.org/wiki/1951_Indianapolis_500  |2   |\n",
      "|827   |1951|3    |13       |Belgian Grand Prix|1951-06-17|\\N  |http://en.wikipedia.org/wiki/1951_Belgian_Grand_Prix|3   |\n",
      "|828   |1951|4    |55       |French Grand Prix |1951-07-01|\\N  |http://en.wikipedia.org/wiki/1951_French_Grand_Prix |4   |\n",
      "|829   |1951|5    |9        |British Grand Prix|1951-07-14|\\N  |http://en.wikipedia.org/wiki/1951_British_Grand_Prix|5   |\n",
      "|830   |1951|6    |20       |German Grand Prix |1951-07-29|\\N  |http://en.wikipedia.org/wiki/1951_German_Grand_Prix |6   |\n",
      "|831   |1951|7    |14       |Italian Grand Prix|1951-09-16|\\N  |http://en.wikipedia.org/wiki/1951_Italian_Grand_Prix|7   |\n",
      "|832   |1951|8    |67       |Spanish Grand Prix|1951-10-28|\\N  |http://en.wikipedia.org/wiki/1951_Spanish_Grand_Prix|8   |\n",
      "|817   |1952|1    |66       |Swiss Grand Prix  |1952-05-18|\\N  |http://en.wikipedia.org/wiki/1952_Swiss_Grand_Prix  |1   |\n",
      "|818   |1952|2    |19       |Indianapolis 500  |1952-05-30|\\N  |http://en.wikipedia.org/wiki/1952_Indianapolis_500  |2   |\n",
      "|819   |1952|3    |13       |Belgian Grand Prix|1952-06-22|\\N  |http://en.wikipedia.org/wiki/1952_Belgian_Grand_Prix|3   |\n",
      "|820   |1952|4    |53       |French Grand Prix |1952-07-06|\\N  |http://en.wikipedia.org/wiki/1952_French_Grand_Prix |4   |\n",
      "|821   |1952|5    |9        |British Grand Prix|1952-07-19|\\N  |http://en.wikipedia.org/wiki/1952_British_Grand_Prix|5   |\n",
      "+------+----+-----+---------+------------------+----------+----+----------------------------------------------------+----+\n",
      "only showing top 20 rows\n",
      "\n"
     ]
    }
   ],
   "source": [
    "# Define the window specification\n",
    "window_spec_rank = Window.partitionBy(\"year\").orderBy(\"round\")\n",
    "\n",
    "# Apply the rank function\n",
    "races_with_rank_df = races_df.withColumn(\"rank\", rank().over(window_spec_rank))\n",
    "\n",
    "races_with_rank_df.show(truncate=False)"
   ]
  },
  {
   "cell_type": "markdown",
   "id": "92d63b0a-7ec1-49ba-acb6-290d4299c268",
   "metadata": {},
   "source": [
    "#### dense_rank()"
   ]
  },
  {
   "cell_type": "code",
   "execution_count": 107,
   "id": "555c59d9-ed11-4528-87a5-a76016992f08",
   "metadata": {
    "collapsed": true,
    "jupyter": {
     "outputs_hidden": true
    }
   },
   "outputs": [
    {
     "name": "stdout",
     "output_type": "stream",
     "text": [
      "+------+----+-----+---------+------------------+----------+----+----------------------------------------------------+----------+\n",
      "|raceId|year|round|circuitId|name              |date      |time|url                                                 |dense_rank|\n",
      "+------+----+-----+---------+------------------+----------+----+----------------------------------------------------+----------+\n",
      "|833   |1950|1    |9        |British Grand Prix|1950-05-13|\\N  |http://en.wikipedia.org/wiki/1950_British_Grand_Prix|1         |\n",
      "|834   |1950|2    |6        |Monaco Grand Prix |1950-05-21|\\N  |http://en.wikipedia.org/wiki/1950_Monaco_Grand_Prix |2         |\n",
      "|835   |1950|3    |19       |Indianapolis 500  |1950-05-30|\\N  |http://en.wikipedia.org/wiki/1950_Indianapolis_500  |3         |\n",
      "|836   |1950|4    |66       |Swiss Grand Prix  |1950-06-04|\\N  |http://en.wikipedia.org/wiki/1950_Swiss_Grand_Prix  |4         |\n",
      "|837   |1950|5    |13       |Belgian Grand Prix|1950-06-18|\\N  |http://en.wikipedia.org/wiki/1950_Belgian_Grand_Prix|5         |\n",
      "|838   |1950|6    |55       |French Grand Prix |1950-07-02|\\N  |http://en.wikipedia.org/wiki/1950_French_Grand_Prix |6         |\n",
      "|839   |1950|7    |14       |Italian Grand Prix|1950-09-03|\\N  |http://en.wikipedia.org/wiki/1950_Italian_Grand_Prix|7         |\n",
      "|825   |1951|1    |66       |Swiss Grand Prix  |1951-05-27|\\N  |http://en.wikipedia.org/wiki/1951_Swiss_Grand_Prix  |1         |\n",
      "|826   |1951|2    |19       |Indianapolis 500  |1951-05-30|\\N  |http://en.wikipedia.org/wiki/1951_Indianapolis_500  |2         |\n",
      "|827   |1951|3    |13       |Belgian Grand Prix|1951-06-17|\\N  |http://en.wikipedia.org/wiki/1951_Belgian_Grand_Prix|3         |\n",
      "|828   |1951|4    |55       |French Grand Prix |1951-07-01|\\N  |http://en.wikipedia.org/wiki/1951_French_Grand_Prix |4         |\n",
      "|829   |1951|5    |9        |British Grand Prix|1951-07-14|\\N  |http://en.wikipedia.org/wiki/1951_British_Grand_Prix|5         |\n",
      "|830   |1951|6    |20       |German Grand Prix |1951-07-29|\\N  |http://en.wikipedia.org/wiki/1951_German_Grand_Prix |6         |\n",
      "|831   |1951|7    |14       |Italian Grand Prix|1951-09-16|\\N  |http://en.wikipedia.org/wiki/1951_Italian_Grand_Prix|7         |\n",
      "|832   |1951|8    |67       |Spanish Grand Prix|1951-10-28|\\N  |http://en.wikipedia.org/wiki/1951_Spanish_Grand_Prix|8         |\n",
      "|817   |1952|1    |66       |Swiss Grand Prix  |1952-05-18|\\N  |http://en.wikipedia.org/wiki/1952_Swiss_Grand_Prix  |1         |\n",
      "|818   |1952|2    |19       |Indianapolis 500  |1952-05-30|\\N  |http://en.wikipedia.org/wiki/1952_Indianapolis_500  |2         |\n",
      "|819   |1952|3    |13       |Belgian Grand Prix|1952-06-22|\\N  |http://en.wikipedia.org/wiki/1952_Belgian_Grand_Prix|3         |\n",
      "|820   |1952|4    |53       |French Grand Prix |1952-07-06|\\N  |http://en.wikipedia.org/wiki/1952_French_Grand_Prix |4         |\n",
      "|821   |1952|5    |9        |British Grand Prix|1952-07-19|\\N  |http://en.wikipedia.org/wiki/1952_British_Grand_Prix|5         |\n",
      "+------+----+-----+---------+------------------+----------+----+----------------------------------------------------+----------+\n",
      "only showing top 20 rows\n",
      "\n"
     ]
    }
   ],
   "source": [
    "# Define the window specification\n",
    "window_spec_dense_rank = Window.partitionBy(\"year\").orderBy(\"round\")\n",
    "\n",
    "# Apply the dense_rank function\n",
    "races_with_dense_rank_df = races_df.withColumn(\"dense_rank\", dense_rank().over(window_spec_dense_rank))\n",
    "\n",
    "races_with_dense_rank_df.show(truncate=False)\n"
   ]
  },
  {
   "cell_type": "markdown",
   "id": "788b8c07-06c9-4a95-b273-b58b3b1a0440",
   "metadata": {},
   "source": [
    "## SQL queries in pyspark"
   ]
  },
  {
   "cell_type": "code",
   "execution_count": 108,
   "id": "e84ddbe4-7baa-49ee-91eb-b2c788452a5c",
   "metadata": {
    "collapsed": true,
    "jupyter": {
     "outputs_hidden": true
    }
   },
   "outputs": [],
   "source": [
    "# Register DataFrames as SQL temporary views\n",
    "circuits_df.createOrReplaceTempView(\"circuits\")\n",
    "races_df.createOrReplaceTempView(\"races\")"
   ]
  },
  {
   "cell_type": "markdown",
   "id": "15ef253c-0b5b-401e-a5ac-7fcb9ac90e25",
   "metadata": {},
   "source": [
    "#### Query all columns from the circuits table."
   ]
  },
  {
   "cell_type": "code",
   "execution_count": 109,
   "id": "980e3cc3-aea5-4be6-8615-3e591ece57ee",
   "metadata": {
    "collapsed": true,
    "jupyter": {
     "outputs_hidden": true
    }
   },
   "outputs": [
    {
     "name": "stdout",
     "output_type": "stream",
     "text": [
      "+---------+--------------+------------------------------+------------+---------+--------+---------+---+-----------------------------------------------------------------+\n",
      "|circuitId|circuitRef    |name                          |location    |country  |lat     |lng      |alt|url                                                              |\n",
      "+---------+--------------+------------------------------+------------+---------+--------+---------+---+-----------------------------------------------------------------+\n",
      "|1        |albert_park   |Albert Park Grand Prix Circuit|Melbourne   |Australia|-37.8497|144.968  |10 |http://en.wikipedia.org/wiki/Melbourne_Grand_Prix_Circuit        |\n",
      "|2        |sepang        |Sepang International Circuit  |Kuala Lumpur|Malaysia |2.76083 |101.738  |18 |http://en.wikipedia.org/wiki/Sepang_International_Circuit        |\n",
      "|3        |bahrain       |Bahrain International Circuit |Sakhir      |Bahrain  |26.0325 |50.5106  |7  |http://en.wikipedia.org/wiki/Bahrain_International_Circuit       |\n",
      "|4        |catalunya     |Circuit de Barcelona-Catalunya|Montmeló    |Spain    |41.57   |2.26111  |109|http://en.wikipedia.org/wiki/Circuit_de_Barcelona-Catalunya      |\n",
      "|5        |istanbul      |Istanbul Park                 |Istanbul    |Turkey   |40.9517 |29.405   |130|http://en.wikipedia.org/wiki/Istanbul_Park                       |\n",
      "|6        |monaco        |Circuit de Monaco             |Monte-Carlo |Monaco   |43.7347 |7.42056  |7  |http://en.wikipedia.org/wiki/Circuit_de_Monaco                   |\n",
      "|7        |villeneuve    |Circuit Gilles Villeneuve     |Montreal    |Canada   |45.5    |-73.5228 |13 |http://en.wikipedia.org/wiki/Circuit_Gilles_Villeneuve           |\n",
      "|8        |magny_cours   |Circuit de Nevers Magny-Cours |Magny Cours |France   |46.8642 |3.16361  |228|http://en.wikipedia.org/wiki/Circuit_de_Nevers_Magny-Cours       |\n",
      "|9        |silverstone   |Silverstone Circuit           |Silverstone |UK       |52.0786 |-1.01694 |153|http://en.wikipedia.org/wiki/Silverstone_Circuit                 |\n",
      "|10       |hockenheimring|Hockenheimring                |Hockenheim  |Germany  |49.3278 |8.56583  |103|http://en.wikipedia.org/wiki/Hockenheimring                      |\n",
      "|11       |hungaroring   |Hungaroring                   |Budapest    |Hungary  |47.5789 |19.2486  |264|http://en.wikipedia.org/wiki/Hungaroring                         |\n",
      "|12       |valencia      |Valencia Street Circuit       |Valencia    |Spain    |39.4589 |-0.331667|4  |http://en.wikipedia.org/wiki/Valencia_Street_Circuit             |\n",
      "|13       |spa           |Circuit de Spa-Francorchamps  |Spa         |Belgium  |50.4372 |5.97139  |401|http://en.wikipedia.org/wiki/Circuit_de_Spa-Francorchamps        |\n",
      "|14       |monza         |Autodromo Nazionale di Monza  |Monza       |Italy    |45.6156 |9.28111  |162|http://en.wikipedia.org/wiki/Autodromo_Nazionale_Monza           |\n",
      "|15       |marina_bay    |Marina Bay Street Circuit     |Marina Bay  |Singapore|1.2914  |103.864  |18 |http://en.wikipedia.org/wiki/Marina_Bay_Street_Circuit           |\n",
      "|16       |fuji          |Fuji Speedway                 |Oyama       |Japan    |35.3717 |138.927  |583|http://en.wikipedia.org/wiki/Fuji_Speedway                       |\n",
      "|17       |shanghai      |Shanghai International Circuit|Shanghai    |China    |31.3389 |121.22   |5  |http://en.wikipedia.org/wiki/Shanghai_International_Circuit      |\n",
      "|18       |interlagos    |Autódromo José Carlos Pace    |São Paulo   |Brazil   |-23.7036|-46.6997 |785|http://en.wikipedia.org/wiki/Aut%C3%B3dromo_Jos%C3%A9_Carlos_Pace|\n",
      "|19       |indianapolis  |Indianapolis Motor Speedway   |Indianapolis|USA      |39.795  |-86.2347 |223|http://en.wikipedia.org/wiki/Indianapolis_Motor_Speedway         |\n",
      "|20       |nurburgring   |Nürburgring                   |Nürburg     |Germany  |50.3356 |6.9475   |578|http://en.wikipedia.org/wiki/N%C3%BCrburgring                    |\n",
      "+---------+--------------+------------------------------+------------+---------+--------+---------+---+-----------------------------------------------------------------+\n",
      "only showing top 20 rows\n",
      "\n"
     ]
    }
   ],
   "source": [
    "# Execute SQL query\n",
    "simple_query_df = spark.sql(\"SELECT * FROM circuits\")\n",
    "\n",
    "# Show the result\n",
    "simple_query_df.show(truncate=False)"
   ]
  },
  {
   "cell_type": "markdown",
   "id": "96997602-1d2a-4b82-b145-7d8dc3d273d1",
   "metadata": {},
   "source": [
    "#### Find circuits located in \"Australia\"."
   ]
  },
  {
   "cell_type": "code",
   "execution_count": 110,
   "id": "5cfaab02-7f72-4567-a27c-f9b8a172a8dc",
   "metadata": {
    "collapsed": true,
    "jupyter": {
     "outputs_hidden": true
    }
   },
   "outputs": [
    {
     "name": "stdout",
     "output_type": "stream",
     "text": [
      "+---------+-----------+------------------------------+---------+---------+--------+-------+---+---------------------------------------------------------+\n",
      "|circuitId|circuitRef |name                          |location |country  |lat     |lng    |alt|url                                                      |\n",
      "+---------+-----------+------------------------------+---------+---------+--------+-------+---+---------------------------------------------------------+\n",
      "|1        |albert_park|Albert Park Grand Prix Circuit|Melbourne|Australia|-37.8497|144.968|10 |http://en.wikipedia.org/wiki/Melbourne_Grand_Prix_Circuit|\n",
      "|29       |adelaide   |Adelaide Street Circuit       |Adelaide |Australia|-34.9272|138.617|58 |http://en.wikipedia.org/wiki/Adelaide_Street_Circuit     |\n",
      "+---------+-----------+------------------------------+---------+---------+--------+-------+---+---------------------------------------------------------+\n",
      "\n"
     ]
    }
   ],
   "source": [
    "# Execute SQL query with filtering\n",
    "australia_circuits_df = spark.sql(\"SELECT * FROM circuits WHERE country = 'Australia'\")\n",
    "\n",
    "# Show the result\n",
    "australia_circuits_df.show(truncate=False)\n"
   ]
  },
  {
   "cell_type": "markdown",
   "id": "f9e1240a-2dcf-4c52-b036-7bd3f3c5867a",
   "metadata": {},
   "source": [
    "####  Joining Tables"
   ]
  },
  {
   "cell_type": "code",
   "execution_count": 111,
   "id": "a4d55a8d-e124-4eff-a4ee-2dc95fe5a459",
   "metadata": {
    "collapsed": true,
    "jupyter": {
     "outputs_hidden": true
    }
   },
   "outputs": [
    {
     "name": "stdout",
     "output_type": "stream",
     "text": [
      "+---------------------+------------------------------+\n",
      "|race_name            |circuit_name                  |\n",
      "+---------------------+------------------------------+\n",
      "|Australian Grand Prix|Albert Park Grand Prix Circuit|\n",
      "|Malaysian Grand Prix |Sepang International Circuit  |\n",
      "|Chinese Grand Prix   |Shanghai International Circuit|\n",
      "|Bahrain Grand Prix   |Bahrain International Circuit |\n",
      "|Spanish Grand Prix   |Circuit de Barcelona-Catalunya|\n",
      "|Monaco Grand Prix    |Circuit de Monaco             |\n",
      "|Turkish Grand Prix   |Istanbul Park                 |\n",
      "|British Grand Prix   |Silverstone Circuit           |\n",
      "|German Grand Prix    |Nürburgring                   |\n",
      "|Hungarian Grand Prix |Hungaroring                   |\n",
      "|European Grand Prix  |Valencia Street Circuit       |\n",
      "|Belgian Grand Prix   |Circuit de Spa-Francorchamps  |\n",
      "|Italian Grand Prix   |Autodromo Nazionale di Monza  |\n",
      "|Singapore Grand Prix |Marina Bay Street Circuit     |\n",
      "|Japanese Grand Prix  |Suzuka Circuit                |\n",
      "|Brazilian Grand Prix |Autódromo José Carlos Pace    |\n",
      "|Abu Dhabi Grand Prix |Yas Marina Circuit            |\n",
      "|Australian Grand Prix|Albert Park Grand Prix Circuit|\n",
      "|Malaysian Grand Prix |Sepang International Circuit  |\n",
      "|Bahrain Grand Prix   |Bahrain International Circuit |\n",
      "+---------------------+------------------------------+\n",
      "only showing top 20 rows\n",
      "\n"
     ]
    }
   ],
   "source": [
    "# Execute SQL query with join\n",
    "race_circuit_info_df = spark.sql(\"\"\"\n",
    "    SELECT r.name AS race_name, c.name AS circuit_name\n",
    "    FROM races r\n",
    "    JOIN circuits c ON r.circuitId = c.circuitId\n",
    "\"\"\")\n",
    "\n",
    "# Show the result\n",
    "race_circuit_info_df.show(truncate=False)"
   ]
  },
  {
   "cell_type": "markdown",
   "id": "de6a96dc-ba7c-4331-9e4a-52676ab35569",
   "metadata": {},
   "source": [
    "#### Aggregation and Grouping"
   ]
  },
  {
   "cell_type": "code",
   "execution_count": 112,
   "id": "c510766e-979b-4661-9843-74913af30961",
   "metadata": {
    "collapsed": true,
    "jupyter": {
     "outputs_hidden": true
    }
   },
   "outputs": [
    {
     "name": "stdout",
     "output_type": "stream",
     "text": [
      "+------------------------------+---------+\n",
      "|circuit_name                  |num_races|\n",
      "+------------------------------+---------+\n",
      "|Fair Park                     |1        |\n",
      "|Scandinavian Raceway          |6        |\n",
      "|Istanbul Park                 |8        |\n",
      "|Albert Park Grand Prix Circuit|25       |\n",
      "|Circuito da Boavista          |2        |\n",
      "|Circuit Gilles Villeneuve     |41       |\n",
      "|Adelaide Street Circuit       |11       |\n",
      "|Korean International Circuit  |4        |\n",
      "|Suzuka Circuit                |32       |\n",
      "|Buddh International Circuit   |3        |\n",
      "|Autodromo Nazionale di Monza  |71       |\n",
      "|Baku City Circuit             |5        |\n",
      "|Silverstone Circuit           |56       |\n",
      "|A1-Ring                       |25       |\n",
      "|Yas Marina Circuit            |13       |\n",
      "|Circuit Bremgarten            |5        |\n",
      "|Rouen-Les-Essarts             |5        |\n",
      "|Circuit de Barcelona-Catalunya|31       |\n",
      "|Circuit de Spa-Francorchamps  |54       |\n",
      "|Autódromo José Carlos Pace    |38       |\n",
      "+------------------------------+---------+\n",
      "only showing top 20 rows\n",
      "\n"
     ]
    }
   ],
   "source": [
    "# Execute SQL query with aggregation\n",
    "race_count_per_circuit_df = spark.sql(\"\"\"\n",
    "    SELECT c.name AS circuit_name, COUNT(r.raceId) AS num_races\n",
    "    FROM races r\n",
    "    JOIN circuits c ON r.circuitId = c.circuitId\n",
    "    GROUP BY c.name\n",
    "\"\"\")\n",
    "\n",
    "# Show the result\n",
    "race_count_per_circuit_df.show(truncate=False)\n"
   ]
  },
  {
   "cell_type": "markdown",
   "id": "2def93e7-9993-4937-aeaf-7e345f5ade73",
   "metadata": {},
   "source": [
    "#### Ordering Results"
   ]
  },
  {
   "cell_type": "code",
   "execution_count": 113,
   "id": "14e37005-343a-4e98-912b-55834e29992a",
   "metadata": {
    "collapsed": true,
    "jupyter": {
     "outputs_hidden": true
    }
   },
   "outputs": [
    {
     "name": "stdout",
     "output_type": "stream",
     "text": [
      "+------+----+-----+---------+------------------+----------+----+----------------------------------------------------+\n",
      "|raceId|year|round|circuitId|name              |date      |time|url                                                 |\n",
      "+------+----+-----+---------+------------------+----------+----+----------------------------------------------------+\n",
      "|833   |1950|1    |9        |British Grand Prix|1950-05-13|\\N  |http://en.wikipedia.org/wiki/1950_British_Grand_Prix|\n",
      "|834   |1950|2    |6        |Monaco Grand Prix |1950-05-21|\\N  |http://en.wikipedia.org/wiki/1950_Monaco_Grand_Prix |\n",
      "|835   |1950|3    |19       |Indianapolis 500  |1950-05-30|\\N  |http://en.wikipedia.org/wiki/1950_Indianapolis_500  |\n",
      "|836   |1950|4    |66       |Swiss Grand Prix  |1950-06-04|\\N  |http://en.wikipedia.org/wiki/1950_Swiss_Grand_Prix  |\n",
      "|837   |1950|5    |13       |Belgian Grand Prix|1950-06-18|\\N  |http://en.wikipedia.org/wiki/1950_Belgian_Grand_Prix|\n",
      "|838   |1950|6    |55       |French Grand Prix |1950-07-02|\\N  |http://en.wikipedia.org/wiki/1950_French_Grand_Prix |\n",
      "|839   |1950|7    |14       |Italian Grand Prix|1950-09-03|\\N  |http://en.wikipedia.org/wiki/1950_Italian_Grand_Prix|\n",
      "|825   |1951|1    |66       |Swiss Grand Prix  |1951-05-27|\\N  |http://en.wikipedia.org/wiki/1951_Swiss_Grand_Prix  |\n",
      "|826   |1951|2    |19       |Indianapolis 500  |1951-05-30|\\N  |http://en.wikipedia.org/wiki/1951_Indianapolis_500  |\n",
      "|827   |1951|3    |13       |Belgian Grand Prix|1951-06-17|\\N  |http://en.wikipedia.org/wiki/1951_Belgian_Grand_Prix|\n",
      "|828   |1951|4    |55       |French Grand Prix |1951-07-01|\\N  |http://en.wikipedia.org/wiki/1951_French_Grand_Prix |\n",
      "|829   |1951|5    |9        |British Grand Prix|1951-07-14|\\N  |http://en.wikipedia.org/wiki/1951_British_Grand_Prix|\n",
      "|830   |1951|6    |20       |German Grand Prix |1951-07-29|\\N  |http://en.wikipedia.org/wiki/1951_German_Grand_Prix |\n",
      "|831   |1951|7    |14       |Italian Grand Prix|1951-09-16|\\N  |http://en.wikipedia.org/wiki/1951_Italian_Grand_Prix|\n",
      "|832   |1951|8    |67       |Spanish Grand Prix|1951-10-28|\\N  |http://en.wikipedia.org/wiki/1951_Spanish_Grand_Prix|\n",
      "|817   |1952|1    |66       |Swiss Grand Prix  |1952-05-18|\\N  |http://en.wikipedia.org/wiki/1952_Swiss_Grand_Prix  |\n",
      "|818   |1952|2    |19       |Indianapolis 500  |1952-05-30|\\N  |http://en.wikipedia.org/wiki/1952_Indianapolis_500  |\n",
      "|819   |1952|3    |13       |Belgian Grand Prix|1952-06-22|\\N  |http://en.wikipedia.org/wiki/1952_Belgian_Grand_Prix|\n",
      "|820   |1952|4    |53       |French Grand Prix |1952-07-06|\\N  |http://en.wikipedia.org/wiki/1952_French_Grand_Prix |\n",
      "|821   |1952|5    |9        |British Grand Prix|1952-07-19|\\N  |http://en.wikipedia.org/wiki/1952_British_Grand_Prix|\n",
      "+------+----+-----+---------+------------------+----------+----+----------------------------------------------------+\n",
      "only showing top 20 rows\n",
      "\n"
     ]
    }
   ],
   "source": [
    "# Execute SQL query with ordering\n",
    "races_ordered_by_date_df = spark.sql(\"\"\"\n",
    "    SELECT * FROM races\n",
    "    ORDER BY date\n",
    "\"\"\")\n",
    "\n",
    "# Show the result\n",
    "races_ordered_by_date_df.show(truncate=False)\n"
   ]
  },
  {
   "cell_type": "code",
   "execution_count": null,
   "id": "e321b202-3cbb-4f24-8b19-da97693c3f90",
   "metadata": {
    "collapsed": true,
    "jupyter": {
     "outputs_hidden": true
    }
   },
   "outputs": [],
   "source": []
  }
 ],
 "metadata": {
  "kernelspec": {
   "display_name": "Python 3 (ipykernel)",
   "language": "python",
   "name": "python3"
  },
  "language_info": {
   "codemirror_mode": {
    "name": "ipython",
    "version": 3
   },
   "file_extension": ".py",
   "mimetype": "text/x-python",
   "name": "python",
   "nbconvert_exporter": "python",
   "pygments_lexer": "ipython3",
   "version": "3.11.6"
  }
 },
 "nbformat": 4,
 "nbformat_minor": 5
}
