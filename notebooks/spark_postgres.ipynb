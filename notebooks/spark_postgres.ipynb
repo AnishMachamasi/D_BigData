{
 "cells": [
  {
   "cell_type": "code",
   "execution_count": 2,
   "id": "d39bcc27-789d-4f8b-8eb4-29539ea1b7b3",
   "metadata": {},
   "outputs": [],
   "source": [
    "from pyspark.sql import SparkSession"
   ]
  },
  {
   "cell_type": "code",
   "execution_count": 3,
   "id": "7c84e155-c3d4-42f6-8837-619d54ee2b38",
   "metadata": {},
   "outputs": [],
   "source": [
    "spark = SparkSession.builder \\\n",
    "    .appName(\"PostgresConnection\") \\\n",
    "    .getOrCreate()"
   ]
  },
  {
   "cell_type": "code",
   "execution_count": 4,
   "id": "b5b7cdc7-1bdb-4955-93c1-a45c099b2902",
   "metadata": {},
   "outputs": [],
   "source": [
    "url = \"jdbc:postgresql://postgres:5432/airflow\"\n",
    "table = \"connection\"\n",
    "properties = {\n",
    "    \"user\": \"airflow\",\n",
    "    \"password\": \"airflow\",\n",
    "    \"driver\": \"org.postgresql.Driver\"\n",
    "}"
   ]
  },
  {
   "cell_type": "code",
   "execution_count": 5,
   "id": "75b6d889-22ab-4fb4-ba9d-dadeac84fd09",
   "metadata": {},
   "outputs": [],
   "source": [
    "df = spark.read.jdbc(url=url, table=table, properties=properties)"
   ]
  },
  {
   "cell_type": "code",
   "execution_count": 6,
   "id": "5bd37f93-da7b-4965-9ee5-f36f0c15a83d",
   "metadata": {},
   "outputs": [
    {
     "name": "stdout",
     "output_type": "stream",
     "text": [
      "+---+----------+---------+-----------+-------------+------+-----+--------+----+------------+------------------+--------------------+\n",
      "| id|   conn_id|conn_type|description|         host|schema|login|password|port|is_encrypted|is_extra_encrypted|               extra|\n",
      "+---+----------+---------+-----------+-------------+------+-----+--------+----+------------+------------------+--------------------+\n",
      "|  1|spark_conn|    spark|           |spark://spark|      |     |    NULL|7077|       false|              true|gAAAAABmrKzOhuoQm...|\n",
      "+---+----------+---------+-----------+-------------+------+-----+--------+----+------------+------------------+--------------------+\n",
      "\n"
     ]
    }
   ],
   "source": [
    "df.show()"
   ]
  },
  {
   "cell_type": "code",
   "execution_count": 7,
   "id": "d521968b-520b-4738-a0b9-d3ad583baf3d",
   "metadata": {},
   "outputs": [],
   "source": [
    "# Write DataFrame to PostgreSQL\n",
    "df.write.jdbc(url=url, table=\"processed_table\", mode=\"overwrite\", properties=properties)"
   ]
  },
  {
   "cell_type": "code",
   "execution_count": null,
   "id": "96d86757-7d05-429c-a276-d7f35ad08557",
   "metadata": {},
   "outputs": [],
   "source": []
  }
 ],
 "metadata": {
  "kernelspec": {
   "display_name": "Python 3 (ipykernel)",
   "language": "python",
   "name": "python3"
  },
  "language_info": {
   "codemirror_mode": {
    "name": "ipython",
    "version": 3
   },
   "file_extension": ".py",
   "mimetype": "text/x-python",
   "name": "python",
   "nbconvert_exporter": "python",
   "pygments_lexer": "ipython3",
   "version": "3.11.6"
  }
 },
 "nbformat": 4,
 "nbformat_minor": 5
}
