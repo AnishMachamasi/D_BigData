{
 "cells": [
  {
   "cell_type": "code",
   "execution_count": 1,
   "id": "912c4ce7-2c83-4ed6-9e0c-dd5644e0fad8",
   "metadata": {},
   "outputs": [],
   "source": [
    "from pyspark.sql import SparkSession"
   ]
  },
  {
   "cell_type": "code",
   "execution_count": 2,
   "id": "60894762-8f36-423d-9652-7ca0a760bc22",
   "metadata": {},
   "outputs": [],
   "source": [
    "# Initialize Spark session\n",
    "spark = SparkSession.builder \\\n",
    "    .appName(\"MySQLConnection\") \\\n",
    "    .getOrCreate()"
   ]
  },
  {
   "cell_type": "code",
   "execution_count": 3,
   "id": "d0ecf03b-f7d8-41a2-b2c9-3a70bd796d63",
   "metadata": {},
   "outputs": [],
   "source": [
    "# MySQL connection properties\n",
    "url = \"jdbc:mysql://mysql:3306/mysqldb\"\n",
    "table = \"exchange_rates\"\n",
    "properties = {\n",
    "    \"user\": \"mysqluser\",\n",
    "    \"password\": \"Mysql123\",\n",
    "    \"driver\": \"com.mysql.cj.jdbc.Driver\"\n",
    "}"
   ]
  },
  {
   "cell_type": "code",
   "execution_count": 4,
   "id": "e207041b-155b-499c-a495-5134dafe9ba3",
   "metadata": {},
   "outputs": [],
   "source": [
    "# Read data from MySQL into a Spark DataFrame\n",
    "df = spark.read.jdbc(url=url, table=table, properties=properties)"
   ]
  },
  {
   "cell_type": "code",
   "execution_count": 5,
   "id": "61eef499-b9fa-4518-8300-d9c2643cb222",
   "metadata": {},
   "outputs": [
    {
     "name": "stdout",
     "output_type": "stream",
     "text": [
      "+--------+-------------+--------------------+-------------+----------+\n",
      "|currency|base_currency|       currency_name|exchange_rate|      date|\n",
      "+--------+-------------+--------------------+-------------+----------+\n",
      "|   ZWL  |        EUR  |   Zimbabwean Dollar| 344.71677600|2024-05-02|\n",
      "|   GHS  |        EUR  |       Ghanaian Cedi|  14.66586700|2024-05-02|\n",
      "|   HRK  |        EUR  |       Croatian Kuna|   7.57966800|2024-05-02|\n",
      "|   HNL  |        EUR  |    Honduran Lempira|  26.45874800|2024-05-02|\n",
      "|   HKD  |        EUR  |    Hong Kong Dollar|   8.36705800|2024-05-02|\n",
      "|   GYD  |        EUR  |    Guyanaese Dollar| 224.15953200|2024-05-02|\n",
      "|   GTQ  |        EUR  |  Guatemalan Quetzal|   8.32357900|2024-05-02|\n",
      "|   GNF  |        EUR  |       Guinean Franc|9204.02548500|2024-05-02|\n",
      "|   GMD  |        EUR  |      Gambian Dalasi|  72.52947400|2024-05-02|\n",
      "|   GIP  |        EUR  |     Gibraltar Pound|   0.85939700|2024-05-02|\n",
      "|   GGP  |        EUR  |      Guernsey Pound|   0.85939700|2024-05-02|\n",
      "|   DOP  |        EUR  |      Dominican Peso|  62.25265600|2024-05-02|\n",
      "|   GEL  |        EUR  |       Georgian Lari|   2.86374300|2024-05-02|\n",
      "|   GBP  |        EUR  |British Pound Ste...|   0.85595900|2024-05-02|\n",
      "|   FKP  |        EUR  |Falkland Islands ...|   0.85939700|2024-05-02|\n",
      "|   FJD  |        EUR  |       Fijian Dollar|   2.41832000|2024-05-02|\n",
      "|   EUR  |        EUR  |                Euro|   1.00000000|2024-05-02|\n",
      "|   ETB  |        EUR  |      Ethiopian Birr|  61.99712800|2024-05-02|\n",
      "|   ERN  |        EUR  |      Eritrean Nakfa|  16.05825500|2024-05-02|\n",
      "|   EGP  |        EUR  |      Egyptian Pound|  51.33439100|2024-05-02|\n",
      "+--------+-------------+--------------------+-------------+----------+\n",
      "only showing top 20 rows\n",
      "\n"
     ]
    }
   ],
   "source": [
    "# Show the DataFrame\n",
    "df.show()"
   ]
  },
  {
   "cell_type": "code",
   "execution_count": 6,
   "id": "53803992-0a85-4325-b045-cc6a30c52b25",
   "metadata": {},
   "outputs": [],
   "source": [
    "# Write DataFrame to MySQL\n",
    "df.write.jdbc(url=url, table=\"processed_table\", mode=\"overwrite\", properties=properties)"
   ]
  },
  {
   "cell_type": "code",
   "execution_count": null,
   "id": "8d06989a-f6de-4fb3-8aa9-dd5fb9b4dc03",
   "metadata": {},
   "outputs": [],
   "source": []
  }
 ],
 "metadata": {
  "kernelspec": {
   "display_name": "Python 3 (ipykernel)",
   "language": "python",
   "name": "python3"
  },
  "language_info": {
   "codemirror_mode": {
    "name": "ipython",
    "version": 3
   },
   "file_extension": ".py",
   "mimetype": "text/x-python",
   "name": "python",
   "nbconvert_exporter": "python",
   "pygments_lexer": "ipython3",
   "version": "3.11.6"
  }
 },
 "nbformat": 4,
 "nbformat_minor": 5
}
